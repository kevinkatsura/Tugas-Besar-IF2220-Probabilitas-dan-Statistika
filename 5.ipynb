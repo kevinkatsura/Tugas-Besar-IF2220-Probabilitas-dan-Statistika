{
 "cells": [
  {
   "cell_type": "code",
   "execution_count": 80,
   "metadata": {},
   "outputs": [],
   "source": [
    "import pandas as pd\n",
    "import numpy as np\n",
    "import seaborn as sns\n",
    "import matplotlib.pyplot as plt\n",
    "import math\n",
    "\n",
    "df = pd.read_csv('Gandum.csv', header = None)\n",
    "\n",
    "df.columns = [\"Id\", \"Daerah\", \"SumbuUtama\", \"SumbuKecil\", \"Keunikan\", \"AreaBulatan\", \"Diameter\", \"KadarAir\", \"Keliling\", \"Bulatan\", \"Ransum\", \"Kelas\"]\n",
    "df = df.drop([\"Id\",\"Kelas\"], axis=1)\n"
   ]
  },
  {
   "cell_type": "markdown",
   "metadata": {},
   "source": [
    "# **Nomor 5**\n",
    "    Melakukan test hipotesis 2 sampel, dengan menuliskan 6 langkah testing dan menampilkan\n",
    "    juga boxplotnya untuk kolom/bagian yang bersesuaian.\n",
    "\n",
    "    a. Data kolom AreaBulatan dibagi 2 sama rata: bagian awal dan bagian akhir kolom. Benarkah rata-rata kedua bagian tersebut sama?\n",
    "    b. Data kolom Kadar Air dibagi 2 sama rata: bagian awal dan bagian akhir kolom. Benarkah rata-rata bagian awal lebih besar dari pada bagian akhir sebesar 0.2?\n",
    "    c. Rata-rata 20 baris pertama kolom Bulatan sama dengan 20 baris terakhirnya?\n",
    "    d. Proporsi nilai bagian awal Ransum yang lebih dari 2, adalah lebih besar daripada, proporsi nilai yang sama di bagian akhir Ransum?\n",
    "    e. Bagian awal kolom Diameter memiliki variansi yang sama dengan bagian akhirnya?\n",
    "\n",
    "**Enam Langkah Testing:**\n",
    "1. Tentukan Hipotesis nol (H0: θ = θ0), dimana θ bisa berupa μ, σ, p, atau data lain berdistribusi tertentu (normal, binomial, dsc.).\n",
    "2. Pilih hipotesis alternatif H1 salah dari dari θ > θ0, θ < θ0, atau θ ≠ θ0.\n",
    "3. Tentukan tingkat signifikan α.\n",
    "4. Tentukan uji statistik yang sesuai dan tentukan daerah kritis.\n",
    "5. Hitung nilai uji statistik dari data sample. Hitung p-value sesuai dengan uji statistik yang digunakan.\n",
    "6. Ambil keputusan dengan TOLAK H0 jika nilai uji terletak di daerah kritis atau dengan tessignifikan, TOLAK H0 jika p-value lebih kecil dibanding tingkat signifikansi α yang diinginkan."
   ]
  },
  {
   "cell_type": "markdown",
   "metadata": {},
   "source": [
    "## **a. Data kolom AreaBulatan dibagi 2 sama rata: bagian awal dan bagian akhir kolom. Benarkah rata-rata kedua bagian tersebut sama?**\n",
    "Kolom *AreaBulatan* pada data\n",
    "> 𝝻 = 4937.048000\n",
    "\n",
    "> 𝜎 = 1011.696255\n",
    "\n",
    "> N = 500\n",
    "\n",
    "**Descriptive Statistics** dari data **bagian awal** kolom *AreaBulatan*\n",
    "> n1 = 250\n",
    "\n",
    "> s1 = 867.0254356176825\n",
    "\n",
    "> x̅1 = 5549.804\n",
    "\n",
    "**Descriptive Statistics** dari data **bagian akhir** kolom *AreaBulatan*\n",
    "> n2 = 250\n",
    "\n",
    "> s2 = 738.5664658199254\n",
    "\n",
    "> x̅2 = 4324.292"
   ]
  },
  {
   "cell_type": "code",
   "execution_count": 33,
   "metadata": {},
   "outputs": [
    {
     "data": {
      "image/png": "[encoded data removed]",
      "text/plain": "<Figure size 432x288 with 1 Axes>"
     },
     "metadata": {
      "needs_background": "light"
     },
     "output_type": "display_data"
    }
   ],
   "source": [
    "# Boxplot Kolom AreaBulatan\n",
    "sns.boxplot(x=df[\"AreaBulatan\"],palette=\"Set3\")\n",
    "plt.show()"
   ]
  },
  {
   "cell_type": "code",
   "execution_count": 34,
   "metadata": {},
   "outputs": [
    {
     "data": {
      "image/png": "[encoded data removed]",
      "text/plain": "<Figure size 432x288 with 1 Axes>"
     },
     "metadata": {
      "needs_background": "light"
     },
     "output_type": "display_data"
    }
   ],
   "source": [
    "# Boxplot data bagian awal kolom AreaBulatan\n",
    "data = df[\"AreaBulatan\"][:250]\n",
    "sns.boxplot(x=data,palette=\"Set3\")\n",
    "plt.show()"
   ]
  },
  {
   "cell_type": "code",
   "execution_count": 35,
   "metadata": {},
   "outputs": [
    {
     "data": {
      "image/png": "[encoded data removed]",
      "text/plain": "<Figure size 432x288 with 1 Axes>"
     },
     "metadata": {
      "needs_background": "light"
     },
     "output_type": "display_data"
    }
   ],
   "source": [
    "# Boxplot data bagian akhir kolom AreaBulatan\n",
    "data = df[\"AreaBulatan\"][250:]\n",
    "sns.boxplot(x=data,palette=\"Set3\")\n",
    "plt.show()"
   ]
  },
  {
   "cell_type": "markdown",
   "metadata": {},
   "source": [
    "**Hipotesis nol**          \n",
    "\n",
    "> H0: x̅1 - x̅2 = 0\n",
    "\n",
    "**Hipotesis Alternatif** \n",
    "\n",
    "> H1: x̅1 - x̅2 ≠ 0 ( two sided ) sehingga menggunakan *two-tailed test*\n",
    "\n",
    "**Tingkat signifikan**\n",
    "\n",
    "> 𝛼 = 0.05\n",
    "\n",
    "> 𝛼/2 = 0.025\n",
    "\n",
    "**Daerah Kritis** \n",
    "\n",
    "> z < -1.96 dan z > 1.96, diperoleh dari P( Z < -1.96) = 0.025 dan P( Z > 1.96) = 0.025\n",
    "\n",
    "**Uji Statistik yang sesuai**\n",
    "\n",
    "> z = ((x̅1 - x̅2) - d0)/√(((𝜎1)^2/n1)+((𝜎2)^2/n2))\n",
    "\n",
    "> dengan d0 = 𝝻1 - 𝝻2\n",
    "\n",
    "**Nilai Uji Statistik**\n",
    "> z = ((5549.804 - 4324.292) - 0)/√(((867.0254356176825)^2/250)+((738.5664658199254)^2/250))\n",
    "\n",
    "> z = 1225.512/5188.854121767068\n",
    "\n",
    "> z = 0.2362\n",
    "\n",
    "**P-Value**\n",
    "> Z = 0.2362 -> P(Z > 0.2362) = 1 - P(Z < 0.2362) = 0.4052\n",
    "\n",
    "**Keputusan**\n",
    "\n",
    "> **H0 tidak dapat ditolak** karena -1.96 < (z = 0.2362) < 1.96 dan P-Value = 0.4052 > (𝛼 = 0.05) ( Berada di daerah penerimaan )\n",
    "\n",
    "> Jadi, rata-rata dari kedua bagian adalah **sama**"
   ]
  },
  {
   "cell_type": "markdown",
   "metadata": {},
   "source": [
    "## **b. Data kolom Kadar Air dibagi 2 sama rata: bagian awal dan bagian akhir kolom. Benarkah rata-rata bagian awal lebih besar dari pada bagian akhir sebesar 0.2**\n",
    "Kolom *KadarAir* pada data\n",
    "> 𝝻 = 0.648372\n",
    "\n",
    "> 𝜎 = 0.094367\n",
    "\n",
    "> N = 500\n",
    "\n",
    "**Descriptive Statistics** dari data **bagian awal** kolom *KadarAir*\n",
    "> n1 = 250\n",
    "\n",
    "> s1 = 0.0950957414770849\n",
    "\n",
    "> x̅1 = 0.63574344072\n",
    "\n",
    "**Descriptive Statistics** dari data **bagian akhir** kolom *KadarAir*\n",
    "> n2 = 250\n",
    "\n",
    "> s2 = 0.09210123051767877\n",
    "\n",
    "> x̅2 = 0.660999903076\n"
   ]
  },
  {
   "cell_type": "code",
   "execution_count": 37,
   "metadata": {},
   "outputs": [
    {
     "data": {
      "image/png": "[encoded data removed]",
      "text/plain": "<Figure size 432x288 with 1 Axes>"
     },
     "metadata": {
      "needs_background": "light"
     },
     "output_type": "display_data"
    }
   ],
   "source": [
    "# Boxplot Kolom KadarAir\n",
    "sns.boxplot(x=df[\"KadarAir\"],palette=\"Set3\")\n",
    "plt.show()"
   ]
  },
  {
   "cell_type": "code",
   "execution_count": 38,
   "metadata": {},
   "outputs": [
    {
     "data": {
      "image/png": "[encoded data removed]",
      "text/plain": "<Figure size 432x288 with 1 Axes>"
     },
     "metadata": {
      "needs_background": "light"
     },
     "output_type": "display_data"
    }
   ],
   "source": [
    "# Boxplot data bagian awal kolom KadarAir\n",
    "data = df[\"KadarAir\"][:250]\n",
    "sns.boxplot(x=data,palette=\"Set3\")\n",
    "plt.show()"
   ]
  },
  {
   "cell_type": "code",
   "execution_count": 39,
   "metadata": {},
   "outputs": [
    {
     "data": {
      "image/png": "[encoded data removed]",
      "text/plain": "<Figure size 432x288 with 1 Axes>"
     },
     "metadata": {
      "needs_background": "light"
     },
     "output_type": "display_data"
    }
   ],
   "source": [
    "# Boxplot data bagian akhir kolom KadarAir\n",
    "data = df[\"KadarAir\"][250:]\n",
    "sns.boxplot(x=data,palette=\"Set3\")\n",
    "plt.show()"
   ]
  },
  {
   "cell_type": "markdown",
   "metadata": {},
   "source": [
    "**Hipotesis nol**          \n",
    "\n",
    "> H0: x̅1 - x̅2 = 0.2\n",
    "\n",
    "**Hipotesis Alternatif** \n",
    "\n",
    "> H1: x̅1 - x̅2 ≠ 0.2 ( two sided ) sehingga menggunakan *two-tailed test*\n",
    "\n",
    "**Tingkat signifikan**\n",
    "\n",
    "> 𝛼 = 0.05\n",
    "\n",
    "> 𝛼/2 = 0.025\n",
    "\n",
    "**Daerah Kritis** \n",
    "\n",
    "> z < -1.96 dan z > 1.96, diperoleh dari P( Z < -1.96) = 0.025 dan P( Z > 1.96) = 0.025\n",
    "\n",
    "**Uji Statistik yang sesuai**\n",
    "\n",
    "> z = ((x̅1 - x̅2) - d0)/√(((𝜎1)^2/n1)+((𝜎2)^2/n2))\n",
    "\n",
    "> dengan d0 = 𝝻1 - 𝝻2\n",
    "\n",
    "**Nilai Uji Statistik**\n",
    "> z = ((0.63574344072 - 0.660999903076) - 0.2)/√(((0.0950957414770849)^2/250)+((0.09210123051767877)^2/250))\n",
    "\n",
    "> z = -0.225256462356/0.008372774142408756\n",
    "\n",
    "> z = -26.90\n",
    "\n",
    "**Keputusan**\n",
    "\n",
    "> **Tolak H0** karena -26.90 < -1.96 ( berada pada daerah kritis )\n",
    "\n",
    "> Jadi, rata-rata bagian awal **tidak lebih besar 0.2** dari bagian akhir. "
   ]
  },
  {
   "cell_type": "markdown",
   "metadata": {},
   "source": [
    "## **c. Rata-rata 20 baris pertama kolom Bulatan sama dengan 20 baris terakhirnya?**\n",
    "Kolom *Bulatan* pada data\n",
    "> 𝝻 = 0.761737\n",
    "\n",
    "> 𝜎 = 0.061702\n",
    "\n",
    "> N = 500\n",
    "\n",
    "**Descriptive Statistics** dari data **20 baris pertama** kolom *Bulatan*\n",
    "> n1 = 20\n",
    "\n",
    "> s1 = 0.03038477583561707\n",
    "\n",
    "> x̅1 = 0.73753535525\n",
    "\n",
    "**Descriptive Statistics** dari data **20 baris terakhir** kolom *Bulatan*\n",
    "> n2 = 20\n",
    "\n",
    "> s2 = 0.025115057347653777\n",
    "\n",
    "> x̅2 = 0.767322437"
   ]
  },
  {
   "cell_type": "code",
   "execution_count": 70,
   "metadata": {},
   "outputs": [
    {
     "data": {
      "image/png": "[encoded data removed]",
      "text/plain": "<Figure size 432x288 with 1 Axes>"
     },
     "metadata": {
      "needs_background": "light"
     },
     "output_type": "display_data"
    }
   ],
   "source": [
    "# Boxplot Kolom Bulatan\n",
    "sns.boxplot(x=df[\"Bulatan\"],palette=\"Set3\")\n",
    "plt.show()"
   ]
  },
  {
   "cell_type": "code",
   "execution_count": 71,
   "metadata": {},
   "outputs": [
    {
     "data": {
      "image/png": "[encoded data removed]",
      "text/plain": "<Figure size 432x288 with 1 Axes>"
     },
     "metadata": {
      "needs_background": "light"
     },
     "output_type": "display_data"
    }
   ],
   "source": [
    "# Boxplot data 20 baris pertama kolom bulatan\n",
    "data = df[\"Bulatan\"][:20]\n",
    "sns.boxplot(x=data,palette=\"Set3\")\n",
    "plt.show()"
   ]
  },
  {
   "cell_type": "code",
   "execution_count": 72,
   "metadata": {},
   "outputs": [
    {
     "data": {
      "image/png": "[encoded data removed]",
      "text/plain": "<Figure size 432x288 with 1 Axes>"
     },
     "metadata": {
      "needs_background": "light"
     },
     "output_type": "display_data"
    }
   ],
   "source": [
    "# Boxplot data 20 baris terakhir kolom bulatan\n",
    "data = df[\"Bulatan\"][480:500]\n",
    "sns.boxplot(x=data,palette=\"Set3\")\n",
    "plt.show()"
   ]
  },
  {
   "cell_type": "markdown",
   "metadata": {},
   "source": [
    "**Hipotesis nol**          \n",
    "\n",
    "> H0: x̅1 - x̅2 = 0\n",
    "\n",
    "**Hipotesis Alternatif** \n",
    "\n",
    "> H1: x̅1 - x̅2 ≠ 0 ( two sided ) sehingga menggunakan *two-tailed test*\n",
    "\n",
    "**Tingkat signifikan**\n",
    "\n",
    "> 𝛼 = 0.05\n",
    "\n",
    "> 𝛼/2 = 0.025\n",
    "\n",
    "**Daerah Kritis** \n",
    "\n",
    "> z < -1.96 dan z > 1.96, diperoleh dari P( Z < -1.96) = 0.025 dan P( Z > 1.96) = 0.025\n",
    "\n",
    "**Uji Statistik yang sesuai**\n",
    "\n",
    "> z = ((x̅1 - x̅2) - d0)/√(((𝜎1)^2/n1)+((𝜎2)^2/n2))\n",
    "\n",
    "> dengan d0 = 𝝻1 - 𝝻2\n",
    "\n",
    "**Nilai Uji Statistik**\n",
    "> z = ((0.73753535525 - 0.767322437) - 0)/√(((0.03038477583561707)^2/20)+((0.025115057347653777)^2/20))\n",
    "\n",
    "> z = -0.02978708175/0.008814762356855223\n",
    "\n",
    "> z = 3.38\n",
    "\n",
    "**P-Value**\n",
    "\n",
    "> z = 3.38 -> P = P(z>3.38) = 1- P(z<3.38) = 0.0004\n",
    "\n",
    "**Keputusan**\n",
    "\n",
    "> **Tolak H0** karena 3.38 > 1.96 dan 0.0004 < 0.025\n",
    "\n",
    "> Jadi, rata-rata 20 baris awal kolom Bulatan **tidak sama** dengan 20 baris terakhir kolom bulatan."
   ]
  },
  {
   "cell_type": "markdown",
   "metadata": {},
   "source": [
    "## **d. Proporsi nilai bagian awal Ransum yang lebih dari 2, adalah lebih besar daripada, proporsi nilai yang sama di bagian akhir Ransum?**\n",
    "Kolom *Ransum* pada data\n",
    "> 𝝻 = 2.150915\n",
    "\n",
    "> 𝜎 = 0.249767\n",
    "\n",
    "> N = 500\n",
    "\n",
    "**Descriptive Statistics** dari data **20 baris pertama** kolom *Bulatan*\n",
    "> untuk ransum yang bernilai lebih dari 2 di bagian awal , n1 = 249 dari 250\n",
    "\n",
    "> s1 = 0.075143\n",
    "\n",
    "> x̅1 = 2.361326\n",
    "\n",
    "**Descriptive Statistics** dari data **20 baris terakhir** kolom *Bulatan*\n",
    "> untuk ransum yang bernilai lebih dari 2 di bagian akhir , n2 = 116 dari 250\n",
    "\n",
    "> s2 = 0.056276\n",
    "\n",
    "> x̅2 = 2.089625"
   ]
  },
  {
   "cell_type": "code",
   "execution_count": 91,
   "metadata": {},
   "outputs": [
    {
     "data": {
      "image/png": "[encoded data removed]",
      "text/plain": "<Figure size 432x288 with 1 Axes>"
     },
     "metadata": {
      "needs_background": "light"
     },
     "output_type": "display_data"
    }
   ],
   "source": [
    "# Boxplot Kolom Ransum\n",
    "sns.boxplot(x=df[\"Ransum\"],palette=\"Set3\")\n",
    "plt.show()"
   ]
  },
  {
   "cell_type": "code",
   "execution_count": 95,
   "metadata": {},
   "outputs": [
    {
     "data": {
      "image/png": "[encoded data removed]",
      "text/plain": "<Figure size 432x288 with 1 Axes>"
     },
     "metadata": {
      "needs_background": "light"
     },
     "output_type": "display_data"
    }
   ],
   "source": [
    "# Boxplot data ransum yang bernilai lebih dari 2 pada bagian awal.\n",
    "data = []\n",
    "for i in range(250):\n",
    "    if(df[\"Ransum\"][i] > 2):\n",
    "        data.append(df[\"Ransum\"][i])\n",
    "sns.boxplot(x=data,palette=\"Set3\")\n",
    "plt.show()"
   ]
  },
  {
   "cell_type": "code",
   "execution_count": 94,
   "metadata": {},
   "outputs": [
    {
     "data": {
      "image/png": "[encoded data removed]",
      "text/plain": "<Figure size 432x288 with 1 Axes>"
     },
     "metadata": {
      "needs_background": "light"
     },
     "output_type": "display_data"
    }
   ],
   "source": [
    "# Boxplot data ransum yang bernilai lebih dari 2 pada bagian akhir.\n",
    "data = []\n",
    "for i in range(250,500):\n",
    "    if(df[\"Ransum\"][i] > 2):\n",
    "        data.append(df[\"Ransum\"][i])\n",
    "sns.boxplot(x=data,palette=\"Set3\")\n",
    "plt.show()"
   ]
  },
  {
   "cell_type": "markdown",
   "metadata": {},
   "source": [
    "**Hipotesis nol**          \n",
    "\n",
    "> H0: p1 - p2 = 0\n",
    "\n",
    "**Hipotesis Alternatif** \n",
    "\n",
    "> H1: p1 - p2 > 0 ( one sided ) sehingga menggunakan *one-tailed test*\n",
    "\n",
    "**Tingkat signifikan**\n",
    "\n",
    "> 𝛼 = 0.05\n",
    "\n",
    "**Daerah Kritis** \n",
    "\n",
    "> z > 1.645 diperoleh dari P (Z > 1.645) = 1 - P(Z < 1.645) = 0.05\n",
    "\n",
    "**Uji Statistik yang sesuai**\n",
    "\n",
    "> z = (p̂1 - p̂2)/√(p̂q(1/n1 + 1/n2))\n",
    "\n",
    "> dengan p = (x1+x2)/(n1+n2)\n",
    "\n",
    "**Nilai Uji Statistik**\n",
    "> p̂1 = 249/250 = 0.996\n",
    "\n",
    "> p̂2 = 116/250 = 0.464\n",
    "\n",
    "> p̂ = (249+116)/(500) = 0.73\n",
    "\n",
    "> z = (0.996 - 0.464)/√(0.73(0.27)(0.008))\n",
    "\n",
    "> z = 0.532/0.0397 = 13.4\n",
    "\n",
    "**Keputusan**\n",
    "\n",
    "> **Tolak H0** karena 13.4 > 1.645 ( berada pada daerah kritis )\n",
    "\n",
    "> Jadi, proporsi nilai bagian awal ransum yang lebih besar dari 2 **lebih besar** dari proporsi nilai bagian akhir ransum yang lebih besar dari 2"
   ]
  },
  {
   "cell_type": "markdown",
   "metadata": {},
   "source": [
    "## **e. Bagian awal kolom Diameter memiliki variansi yang sama dengan bagian akhirnya?**\n",
    "**Descriptive statistics** dari kolom Diameter\n",
    "> N = 500\n",
    "\n",
    "> 𝝻  = 77.771158\n",
    "\n",
    "> 𝜎 = 8.056867\n",
    "\n",
    "**Descriptive statistics** dari bagian awal kolom diameter\n",
    "> n1 = 250\n",
    "\n",
    "> x̅1 = 82.61374558963999\n",
    "\n",
    "> s1 = 6.570310527389283\n",
    "\n",
    "**Descriptive statistics** dari bagian akhir kolom diameter\n",
    "> n2 = 250\n",
    "\n",
    "> x̅2 = 72.928570027\n",
    "\n",
    "> s2 = 6.310963824019054\n"
   ]
  },
  {
   "cell_type": "code",
   "execution_count": 98,
   "metadata": {},
   "outputs": [
    {
     "data": {
      "image/png": "[encoded data removed]",
      "text/plain": "<Figure size 432x288 with 1 Axes>"
     },
     "metadata": {
      "needs_background": "light"
     },
     "output_type": "display_data"
    }
   ],
   "source": [
    "# Boxplot Kolom Diameter\n",
    "sns.boxplot(x=df[\"Diameter\"],palette=\"Set3\")\n",
    "plt.show()"
   ]
  },
  {
   "cell_type": "code",
   "execution_count": 99,
   "metadata": {},
   "outputs": [
    {
     "data": {
      "image/png": "[encoded data removed]",
      "text/plain": "<Figure size 432x288 with 1 Axes>"
     },
     "metadata": {
      "needs_background": "light"
     },
     "output_type": "display_data"
    }
   ],
   "source": [
    "# Boxplot data bagian awal kolom diameter\n",
    "sns.boxplot(x=df[\"Ransum\"][:250],palette=\"Set3\")\n",
    "plt.show()"
   ]
  },
  {
   "cell_type": "code",
   "execution_count": 100,
   "metadata": {},
   "outputs": [
    {
     "data": {
      "image/png": "[encoded data removed]",
      "text/plain": "<Figure size 432x288 with 1 Axes>"
     },
     "metadata": {
      "needs_background": "light"
     },
     "output_type": "display_data"
    }
   ],
   "source": [
    "# Boxplot data bagian awal kolom diameter\n",
    "sns.boxplot(x=df[\"Ransum\"][250:],palette=\"Set3\")\n",
    "plt.show()"
   ]
  },
  {
   "cell_type": "markdown",
   "metadata": {},
   "source": [
    "**Hipotesis nol**          \n",
    "\n",
    "> H0: 𝜎1 - 𝜎2 = 0\n",
    "\n",
    "**Hipotesis Alternatif** \n",
    "\n",
    "> H1: 𝜎1 - 𝜎2 ≠ 0 ( two sided ) sehingga menggunakan *two-tailed test*\n",
    "\n",
    "**Tingkat signifikan**\n",
    "\n",
    "> 𝛼 = 0.05 \n",
    "\n",
    "**Daerah Kritis**\n",
    "\n",
    "> Daerah kritis f(0.025)(249,249) = 1 dan f(0.975)(249,249) = 1/(f(0.025)(249,249)) = 1\n",
    "\n",
    "**Uji Statistik yang sesuai**\n",
    "\n",
    "> f = s1^(2)/s2^(2)\n",
    "\n",
    "**Nilai Uji Statistik**\n",
    "> f = 6.57^(2)/6.31^(2)\n",
    "\n",
    "> f = 43.17/39.82\n",
    "\n",
    "> f = 1.08 \n",
    "\n",
    "**Keputusan**\n",
    "\n",
    "> **Tolak H0** karena sesuai 1.08 > 1 . Pada dasarnya tidak akan ada nilai uji yang memenuhi karena daerah kritisnya sendiri untuk nilai kritis atas dan bawahnya adalah sama yaitu 1.\n",
    "\n",
    "> Jadi, data bagian awal kolom diameter memiliki variansi yang **berbeda/tidak sama** dengan data bagian akhir kolom diameter."
   ]
  }
 ],
 "metadata": {
  "kernelspec": {
   "display_name": "Python 3.9.2 64-bit",
   "name": "python392jvsc74a57bd0aee8b7b246df8f9039afb4144a1f6fd8d2ca17a180786b69acc140d282b71a49"
  },
  "language_info": {
   "codemirror_mode": {
    "name": "ipython",
    "version": 3
   },
   "file_extension": ".py",
   "mimetype": "text/x-python",
   "name": "python",
   "nbconvert_exporter": "python",
   "pygments_lexer": "ipython3",
   "version": "3.9.2"
  },
  "metadata": {
   "interpreter": {
    "hash": "aee8b7b246df8f9039afb4144a1f6fd8d2ca17a180786b69acc140d282b71a49"
   }
  },
  "orig_nbformat": 2
 },
 "nbformat": 4,
 "nbformat_minor": 2
}