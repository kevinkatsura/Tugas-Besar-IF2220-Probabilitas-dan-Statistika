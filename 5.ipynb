{
 "cells": [
  {
   "cell_type": "code",
   "execution_count": 32,
   "metadata": {},
   "outputs": [],
   "source": [
    "import pandas as pd\n",
    "import numpy as np\n",
    "import seaborn as sns\n",
    "import matplotlib.pyplot as plt\n",
    "import math\n",
    "\n",
    "df = pd.read_csv('Gandum.csv', header = None)\n",
    "\n",
    "df.columns = [\"Id\", \"Daerah\", \"SumbuUtama\", \"SumbuKecil\", \"Keunikan\", \"AreaBulatan\", \"Diameter\", \"KadarAir\", \"Keliling\", \"Bulatan\", \"Ransum\", \"Kelas\"]\n",
    "\n",
    "df = df.drop([\"Id\",\"Kelas\"], axis=1)\n"
   ]
  },
  {
   "cell_type": "markdown",
   "metadata": {},
   "source": [
    "# **Nomor 5**\n",
    "    Melakukan test hipotesis 2 sampel, dengan menuliskan 6 langkah testing dan menampilkan\n",
    "    juga boxplotnya untuk kolom/bagian yang bersesuaian.\n",
    "\n",
    "    a. Data kolom AreaBulatan dibagi 2 sama rata: bagian awal dan bagian akhir kolom. Benarkah rata-rata kedua bagian tersebut sama?\n",
    "    b. Data kolom Kadar Air dibagi 2 sama rata: bagian awal dan bagian akhir kolom. Benarkah rata-rata bagian awal lebih besar dari pada bagian akhir sebesar 0.2?\n",
    "    c. Rata-rata 20 baris pertama kolom Bulatan sama dengan 20 baris terakhirnya?\n",
    "    d. Proporsi nilai bagian awal Ransum yang lebih dari 2, adalah lebih besar daripada, proporsi nilai yang sama di bagian akhir Ransum?\n",
    "    e. Bagian awal kolom Diameter memiliki variansi yang sama dengan bagian akhirnya?\n",
    "\n",
    "**Enam Langkah Testing:**\n",
    "1. Tentukan Hipotesis nol (H0: θ = θ0), dimana θ bisa berupa μ, σ, p, atau data lain berdistribusi tertentu (normal, binomial, dsc.).\n",
    "2. Pilih hipotesis alternatif H1 salah dari dari θ > θ0, θ < θ0, atau θ ≠ θ0.\n",
    "3. Tentukan tingkat signifikan α.\n",
    "4. Tentukan uji statistik yang sesuai dan tentukan daerah kritis.\n",
    "5. Hitung nilai uji statistik dari data sample. Hitung p-value sesuai dengan uji statistik yang digunakan.\n",
    "6. Ambil keputusan dengan TOLAK H0 jika nilai uji terletak di daerah kritis atau dengan tessignifikan, TOLAK H0 jika p-value lebih kecil dibanding tingkat signifikansi α yang diinginkan."
   ]
  },
  {
   "cell_type": "markdown",
   "metadata": {},
   "source": [
    "## **a. Data kolom AreaBulatan dibagi 2 sama rata: bagian awal dan bagian akhir kolom. Benarkah rata-rata kedua bagian tersebut sama?**\n",
    "Kolom *AreaBulatan* pada data\n",
    "> 𝝻 = 4937.048000\n",
    "\n",
    "> 𝜎 = 1011.696255\n",
    "\n",
    "> N = 500\n",
    "\n",
    "**Decriptive Statistics** dari data **bagian awal** kolom *AreaBulatan*\n",
    "> n1 = 250\n",
    "\n",
    "> s1 = 867.0254356176825\n",
    "\n",
    "> x̅1 = 5549.804\n",
    "\n",
    "**Decriptive Statistics** dari data **bagian akhir** kolom *AreaBulatan*\n",
    "> n2 = 250\n",
    "\n",
    "> s2 = 738.5664658199254\n",
    "\n",
    "> x̅2 = 4324.292"
   ]
  },
  {
   "cell_type": "code",
   "execution_count": 33,
   "metadata": {},
   "outputs": [
    {
     "data": {
      "image/png": "[encoded data removed]",
      "text/plain": "<Figure size 432x288 with 1 Axes>"
     },
     "metadata": {
      "needs_background": "light"
     },
     "output_type": "display_data"
    }
   ],
   "source": [
    "# Boxplot Kolom AreaBulatan\n",
    "sns.boxplot(x=df[\"AreaBulatan\"],palette=\"Set3\")\n",
    "plt.show()"
   ]
  },
  {
   "cell_type": "code",
   "execution_count": 34,
   "metadata": {},
   "outputs": [
    {
     "data": {
      "image/png": "[encoded data removed]",
      "text/plain": "<Figure size 432x288 with 1 Axes>"
     },
     "metadata": {
      "needs_background": "light"
     },
     "output_type": "display_data"
    }
   ],
   "source": [
    "# Boxplot data bagian awal kolom AreaBulatan\n",
    "data = df[\"AreaBulatan\"][:250]\n",
    "sns.boxplot(x=data,palette=\"Set3\")\n",
    "plt.show()"
   ]
  },
  {
   "cell_type": "code",
   "execution_count": 35,
   "metadata": {},
   "outputs": [
    {
     "data": {
      "image/png": "[encoded data removed]",
      "text/plain": "<Figure size 432x288 with 1 Axes>"
     },
     "metadata": {
      "needs_background": "light"
     },
     "output_type": "display_data"
    }
   ],
   "source": [
    "# Boxplot data bagian akhir kolom AreaBulatan\n",
    "data = df[\"AreaBulatan\"][250:]\n",
    "sns.boxplot(x=data,palette=\"Set3\")\n",
    "plt.show()"
   ]
  },
  {
   "cell_type": "markdown",
   "metadata": {},
   "source": [
    "**Hipotesis nol**          \n",
    "\n",
    "> H0: x̅1 - x̅2 = 0\n",
    "\n",
    "**Hipotesis Alternatif** \n",
    "\n",
    "> H1: x̅1 - x̅2 ≠ 0 ( two sided ) sehingga menggunakan *two-tailed test*\n",
    "\n",
    "**Tingkat signifikan**\n",
    "\n",
    "> 𝛼 = 0.05\n",
    "\n",
    "> 𝛼/2 = 0.025\n",
    "\n",
    "**Daerah Kritis** \n",
    "\n",
    "> z < -1.96 dan z > 1.96, diperoleh dari P( Z < -1.96) = 0.025 dan P( Z > 1.96) = 0.025\n",
    "\n",
    "**Uji Statistik yang sesuai**\n",
    "\n",
    "> z = ((x̅1 - x̅2) - d0)/√(((𝜎1)^2/n1)+((𝜎2)^2/n2))\n",
    "\n",
    "> dengan d0 = 𝝻1 - 𝝻2\n",
    "\n",
    "**Nilai Uji Statistik**\n",
    "> z = ((5549.804 - 4324.292) - 0)/√(((867.0254356176825)^2/250)+((738.5664658199254)^2/250))\n",
    "\n",
    "> z = 1225.512/5188.854121767068\n",
    "\n",
    "> z = 0.2362\n",
    "\n",
    "**P-Value**\n",
    "> Z = 0.2362 -> P(Z > 0.2362) = 1 - P(Z < 0.2362) = 0.4052\n",
    "\n",
    "**Keputusan**\n",
    "\n",
    "> **H0 tidak dapat ditolak** karena -1.96 < (z = 0.2362) < 1.96 dan P-Value = 0.4052 > (𝛼 = 0.05) ( Berada di daerah penerimaan )\n",
    "\n",
    "> Jadi, rata-rata dari kedua bagian adalah **sama**"
   ]
  },
  {
   "cell_type": "markdown",
   "metadata": {},
   "source": [
    "## **b. Data kolom Kadar Air dibagi 2 sama rata: bagian awal dan bagian akhir kolom. Benarkah rata-rata bagian awal lebih besar dari pada bagian akhir sebesar 0.2**\n",
    "Kolom *KadarAir* pada data\n",
    "> 𝝻 = 0.648372\n",
    "\n",
    "> 𝜎 = 0.094367\n",
    "\n",
    "> N = 500\n",
    "\n",
    "**Decriptive Statistics** dari data **bagian awal** kolom *KadarAir*\n",
    "> n1 = 250\n",
    "\n",
    "> s1 = 0.0950957414770849\n",
    "\n",
    "> x̅1 = 0.63574344072\n",
    "\n",
    "**Decriptive Statistics** dari data **bagian akhir** kolom *KadarAir*\n",
    "> n2 = 250\n",
    "\n",
    "> s2 = 0.09210123051767877\n",
    "\n",
    "> x̅2 = 0.660999903076\n"
   ]
  },
  {
   "cell_type": "code",
   "execution_count": 37,
   "metadata": {},
   "outputs": [
    {
     "data": {
      "image/png": "[encoded data removed]",
      "text/plain": "<Figure size 432x288 with 1 Axes>"
     },
     "metadata": {
      "needs_background": "light"
     },
     "output_type": "display_data"
    }
   ],
   "source": [
    "# Boxplot Kolom KadarAir\n",
    "sns.boxplot(x=df[\"KadarAir\"],palette=\"Set3\")\n",
    "plt.show()"
   ]
  },
  {
   "cell_type": "code",
   "execution_count": 38,
   "metadata": {},
   "outputs": [
    {
     "data": {
      "image/png": "[encoded data removed]",
      "text/plain": "<Figure size 432x288 with 1 Axes>"
     },
     "metadata": {
      "needs_background": "light"
     },
     "output_type": "display_data"
    }
   ],
   "source": [
    "# Boxplot data bagian awal kolom KadarAir\n",
    "data = df[\"KadarAir\"][:250]\n",
    "sns.boxplot(x=data,palette=\"Set3\")\n",
    "plt.show()"
   ]
  },
  {
   "cell_type": "code",
   "execution_count": 39,
   "metadata": {},
   "outputs": [
    {
     "data": {
      "image/png": "[encoded data removed]",
      "text/plain": "<Figure size 432x288 with 1 Axes>"
     },
     "metadata": {
      "needs_background": "light"
     },
     "output_type": "display_data"
    }
   ],
   "source": [
    "# Boxplot data bagian akhir kolom KadarAir\n",
    "data = df[\"KadarAir\"][250:]\n",
    "sns.boxplot(x=data,palette=\"Set3\")\n",
    "plt.show()"
   ]
  },
  {
   "cell_type": "markdown",
   "metadata": {},
   "source": [
    "**Hipotesis nol**          \n",
    "\n",
    "> H0: x̅1 - x̅2 = 0.2\n",
    "\n",
    "**Hipotesis Alternatif** \n",
    "\n",
    "> H1: x̅1 - x̅2 ≠ 0.2 ( two sided ) sehingga menggunakan *two-tailed test*\n",
    "\n",
    "**Tingkat signifikan**\n",
    "\n",
    "> 𝛼 = 0.05\n",
    "\n",
    "> 𝛼/2 = 0.025\n",
    "\n",
    "**Daerah Kritis** \n",
    "\n",
    "> z < -1.96 dan z > 1.96, diperoleh dari P( Z < -1.96) = 0.025 dan P( Z > 1.96) = 0.025\n",
    "\n",
    "**Uji Statistik yang sesuai**\n",
    "\n",
    "> z = ((x̅1 - x̅2) - d0)/√(((𝜎1)^2/n1)+((𝜎2)^2/n2))\n",
    "\n",
    "> dengan d0 = 𝝻1 - 𝝻2\n",
    "\n",
    "**Nilai Uji Statistik**\n",
    "> z = ((0.63574344072 - 0.660999903076) - 0.2)/√(((0.0950957414770849)^2/250)+((0.09210123051767877)^2/250))\n",
    "\n",
    "> z = -0.225256462356/0.008372774142408756\n",
    "\n",
    "> z = -26.90\n",
    "\n",
    "**Keputusan**\n",
    "\n",
    "> **Tolak H0** karena -26.90 < -1.96 ( berada pada daerah kritis )\n",
    "\n",
    "> Jadi, rata-rata bagian awal **tidak lebih besar 0.2** dari bagian akhir. "
   ]
  },
  {
   "cell_type": "markdown",
   "metadata": {},
   "source": []
  }
 ],
 "metadata": {
  "kernelspec": {
   "display_name": "Python 3.9.2 64-bit",
   "name": "python392jvsc74a57bd0aee8b7b246df8f9039afb4144a1f6fd8d2ca17a180786b69acc140d282b71a49"
  },
  "language_info": {
   "codemirror_mode": {
    "name": "ipython",
    "version": 3
   },
   "file_extension": ".py",
   "mimetype": "text/x-python",
   "name": "python",
   "nbconvert_exporter": "python",
   "pygments_lexer": "ipython3",
   "version": "3.9.2"
  },
  "metadata": {
   "interpreter": {
    "hash": "aee8b7b246df8f9039afb4144a1f6fd8d2ca17a180786b69acc140d282b71a49"
   }
  },
  "orig_nbformat": 2
 },
 "nbformat": 4,
 "nbformat_minor": 2
}