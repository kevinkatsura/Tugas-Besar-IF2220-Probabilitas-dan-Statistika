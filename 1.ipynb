{
 "cells": [
  {
   "cell_type": "code",
   "execution_count": 1,
   "metadata": {},
   "outputs": [],
   "source": [
    "import pandas as pd\n",
    "import numpy as np\n",
    "\n",
    "df = pd.read_csv('Gandum.csv', header = None)\n",
    "\n",
    "df.columns = [\"Id\", \"Daerah\", \"SumbuUtama\", \"SumbuKecil\", \"Keunikan\", \"AreaBulatan\", \"Diameter\", \"KadarAir\", \"Keliling\", \"Bulatan\", \"Ransum\", \"Kelas\"]\n",
    "\n",
    "df = df.drop([\"Id\",\"Kelas\"], axis=1)\n"
   ]
  },
  {
   "cell_type": "markdown",
   "metadata": {},
   "source": [
    "## Nomor 1\n",
    "    Menulis deskripsi statistika (Descriptive Statistics) dari semua kolom pada data yang bersifat\n",
    "    numerik, terdiri dari mean, median, modus, standar deviasi, variansi, range, nilai minimum,\n",
    "    maksimum, kuartil, IQR, skewness dan kurtosis. Boleh juga ditambahkan deskripsi lain."
   ]
  },
  {
   "cell_type": "markdown",
   "metadata": {},
   "source": [
    "### **Mean**"
   ]
  },
  {
   "cell_type": "code",
   "execution_count": 2,
   "metadata": {},
   "outputs": [
    {
     "data": {
      "text/plain": "Daerah         4801.246000\nSumbuUtama      116.045171\nSumbuKecil       53.715246\nKeunikan          0.878764\nAreaBulatan    4937.048000\nDiameter         77.771158\nKadarAir          0.648372\nKeliling        281.479722\nBulatan           0.761737\nRansum            2.150915\ndtype: float64"
     },
     "execution_count": 2,
     "metadata": {},
     "output_type": "execute_result"
    }
   ],
   "source": [
    "### Mean\n",
    "df.mean()"
   ]
  },
  {
   "cell_type": "markdown",
   "metadata": {},
   "source": [
    "### **Modus**"
   ]
  },
  {
   "cell_type": "code",
   "execution_count": 3,
   "metadata": {},
   "outputs": [
    {
     "name": "stdout",
     "output_type": "stream",
     "text": [
      " Daerah  SumbuUtama  SumbuKecil  Keunikan  AreaBulatan  Diameter  KadarAir  Keliling  Bulatan  Ransum\n",
      " 3992.0         NaN         NaN       NaN       3802.0 71.293564  0.735849       NaN      NaN     NaN\n",
      " 4881.0         NaN         NaN       NaN       4913.0 78.833256  0.824405       NaN      NaN     NaN\n",
      " 5642.0         NaN         NaN       NaN          NaN 84.756224       NaN       NaN      NaN     NaN\n",
      " 6083.0         NaN         NaN       NaN          NaN 88.006342       NaN       NaN      NaN     NaN\n"
     ]
    }
   ],
   "source": [
    "### Modus\n",
    "df_mode = df.mode()\n",
    "\n",
    "for column in df_mode:\n",
    "    if (df_mode[column].isnull().sum() == 0):\n",
    "        df_mode[column].loc[:] = np.nan\n",
    "        \n",
    "print(df_mode.mode().to_string(index = False))"
   ]
  },
  {
   "cell_type": "markdown",
   "metadata": {},
   "source": [
    "### **Standard Deviasi**"
   ]
  },
  {
   "cell_type": "code",
   "execution_count": 4,
   "metadata": {},
   "outputs": [
    {
     "data": {
      "text/plain": "Daerah          986.395491\nSumbuUtama       18.282626\nSumbuKecil        4.071075\nKeunikan          0.036586\nAreaBulatan    1011.696255\nDiameter          8.056867\nKadarAir          0.094367\nKeliling         37.335402\nBulatan           0.061702\nRansum            0.249767\ndtype: float64"
     },
     "execution_count": 4,
     "metadata": {},
     "output_type": "execute_result"
    }
   ],
   "source": [
    "### Standar Deviasi\n",
    "df.std()"
   ]
  },
  {
   "cell_type": "markdown",
   "metadata": {},
   "source": [
    "### **Variansi**"
   ]
  },
  {
   "cell_type": "code",
   "execution_count": 5,
   "metadata": {},
   "outputs": [
    {
     "data": {
      "text/plain": "Daerah         9.729761e+05\nSumbuUtama     3.342544e+02\nSumbuKecil     1.657365e+01\nKeunikan       1.338528e-03\nAreaBulatan    1.023529e+06\nDiameter       6.491311e+01\nKadarAir       8.905149e-03\nKeliling       1.393932e+03\nBulatan        3.807194e-03\nRansum         6.238350e-02\ndtype: float64"
     },
     "execution_count": 5,
     "metadata": {},
     "output_type": "execute_result"
    }
   ],
   "source": [
    "### Variansi\n",
    "df.var()###.apply(lambda x: '%.4f' % x) <- Buat hapus bentuk scientific"
   ]
  },
  {
   "cell_type": "markdown",
   "metadata": {},
   "source": [
    "### **Range**"
   ]
  },
  {
   "cell_type": "code",
   "execution_count": 6,
   "metadata": {},
   "outputs": [
    {
     "name": "stdout",
     "output_type": "stream",
     "text": [
      " Daerah  SumbuUtama  SumbuKecil  Keunikan  AreaBulatan  Diameter  KadarAir  Keliling  Bulatan   Ransum\n",
      "   4931  153.795469   29.071182  0.194085         5141 40.747172  0.468972   291.822 0.730158 1.024013\n"
     ]
    }
   ],
   "source": [
    "### Range\n",
    "new_data = {}\n",
    "\n",
    "for column in df:\n",
    "    new_data[column] = df[column].max() - df[column].min()\n",
    "    \n",
    "new_df = pd.DataFrame(new_data, index = [' '])\n",
    "\n",
    "print(new_df.to_string(index = False))"
   ]
  },
  {
   "cell_type": "markdown",
   "metadata": {},
   "source": [
    "### **Min**"
   ]
  },
  {
   "cell_type": "code",
   "execution_count": 7,
   "metadata": {},
   "outputs": [
    {
     "data": {
      "text/plain": "Daerah         2522.000000\nSumbuUtama       74.133114\nSumbuKecil       39.906517\nKeunikan          0.719916\nAreaBulatan    2579.000000\nDiameter         56.666658\nKadarAir          0.409927\nKeliling        197.015000\nBulatan           0.174590\nRansum            1.440796\ndtype: float64"
     },
     "execution_count": 7,
     "metadata": {},
     "output_type": "execute_result"
    }
   ],
   "source": [
    "### Min\n",
    "df.min()"
   ]
  },
  {
   "cell_type": "markdown",
   "metadata": {},
   "source": [
    "### **Max**"
   ]
  },
  {
   "cell_type": "code",
   "execution_count": 8,
   "metadata": {},
   "outputs": [
    {
     "data": {
      "text/plain": "Daerah         7453.000000\nSumbuUtama      227.928583\nSumbuKecil       68.977700\nKeunikan          0.914001\nAreaBulatan    7720.000000\nDiameter         97.413830\nKadarAir          0.878899\nKeliling        488.837000\nBulatan           0.904748\nRansum            2.464809\ndtype: float64"
     },
     "execution_count": 8,
     "metadata": {},
     "output_type": "execute_result"
    }
   ],
   "source": [
    "### Max\n",
    "df.max()"
   ]
  },
  {
   "cell_type": "markdown",
   "metadata": {},
   "source": [
    "### **Kuartil Bawah**"
   ]
  },
  {
   "cell_type": "code",
   "execution_count": 9,
   "metadata": {},
   "outputs": [
    {
     "data": {
      "text/plain": "Daerah         4042.7500\nSumbuUtama      104.1161\nSumbuKecil       51.1936\nKeunikan          0.8637\nAreaBulatan    4170.2500\nDiameter         71.7453\nKadarAir          0.5726\nKeliling        255.8830\nBulatan           0.7320\nRansum            1.9839\nName: 0.25, dtype: object"
     },
     "execution_count": 9,
     "metadata": {},
     "output_type": "execute_result"
    }
   ],
   "source": [
    "### Kuartil bawah\n",
    "df.quantile(.25).apply(lambda x: '%.4f' % x)"
   ]
  },
  {
   "cell_type": "markdown",
   "metadata": {},
   "source": [
    "### **Median**"
   ]
  },
  {
   "cell_type": "code",
   "execution_count": 10,
   "metadata": {},
   "outputs": [
    {
     "data": {
      "text/plain": "Daerah         4735.000000\nSumbuUtama      115.405140\nSumbuKecil       53.731199\nKeunikan          0.890045\nAreaBulatan    4857.000000\nDiameter         77.645277\nKadarAir          0.626117\nKeliling        280.045500\nBulatan           0.761288\nRansum            2.193599\ndtype: float64"
     },
     "execution_count": 10,
     "metadata": {},
     "output_type": "execute_result"
    }
   ],
   "source": [
    "### Median\n",
    "df.median()"
   ]
  },
  {
   "cell_type": "markdown",
   "metadata": {},
   "source": [
    "### **Kuartil Atas**"
   ]
  },
  {
   "cell_type": "code",
   "execution_count": 11,
   "metadata": {},
   "outputs": [
    {
     "data": {
      "text/plain": "Daerah         5495.500000\nSumbuUtama      129.046792\nSumbuKecil       56.325158\nKeunikan          0.907578\nAreaBulatan    5654.250000\nDiameter         83.648598\nKadarAir          0.726633\nKeliling        306.062500\nBulatan           0.796361\nRansum            2.381612\nName: 0.75, dtype: float64"
     },
     "execution_count": 11,
     "metadata": {},
     "output_type": "execute_result"
    }
   ],
   "source": [
    "### Kuartil atas\n",
    "df.quantile(.75)"
   ]
  },
  {
   "cell_type": "markdown",
   "metadata": {},
   "source": [
    "### **IQR**"
   ]
  },
  {
   "cell_type": "code",
   "execution_count": 12,
   "metadata": {},
   "outputs": [
    {
     "name": "stdout",
     "output_type": "stream",
     "text": [
      " Daerah  SumbuUtama  SumbuKecil  Keunikan  AreaBulatan  Diameter  KadarAir  Keliling  Bulatan   Ransum\n",
      "1452.75   24.930694    5.131582  0.043902       1484.0  11.90329  0.154001   50.1795  0.06437 0.397673\n"
     ]
    }
   ],
   "source": [
    "### IQR\n",
    "new_data = {}\n",
    "\n",
    "for column in df:\n",
    "    new_data[column] = df[column].quantile(.75) - df[column].quantile(.25)\n",
    "    \n",
    "new_df = pd.DataFrame(new_data, index = [' '])\n",
    "\n",
    "print(new_df.to_string(index = False))"
   ]
  },
  {
   "cell_type": "markdown",
   "metadata": {},
   "source": [
    "### **Skewness**"
   ]
  },
  {
   "cell_type": "code",
   "execution_count": 13,
   "metadata": {},
   "outputs": [
    {
     "data": {
      "text/plain": "Daerah         0.238144\nSumbuUtama     0.761529\nSumbuKecil    -0.010828\nKeunikan      -1.623472\nAreaBulatan    0.257560\nDiameter       0.002725\nKadarAir       0.493661\nKeliling       0.733627\nBulatan       -3.599237\nRansum        -0.658188\ndtype: float64"
     },
     "execution_count": 13,
     "metadata": {},
     "output_type": "execute_result"
    }
   ],
   "source": [
    "### Skewness\n",
    "df.skew()"
   ]
  },
  {
   "cell_type": "markdown",
   "metadata": {},
   "source": [
    "### **Kurtosis**"
   ]
  },
  {
   "cell_type": "code",
   "execution_count": 14,
   "metadata": {},
   "outputs": [
    {
     "data": {
      "text/plain": "Daerah         -0.434631\nSumbuUtama      4.330534\nSumbuKecil      0.475568\nKeunikan        2.917256\nAreaBulatan    -0.409685\nDiameter       -0.466455\nKadarAir       -0.740326\nKeliling        2.272685\nBulatan        29.975096\nRansum         -0.428656\ndtype: float64"
     },
     "execution_count": 14,
     "metadata": {},
     "output_type": "execute_result"
    }
   ],
   "source": [
    "### Kurtosis\n",
    "df.kurtosis()"
   ]
  }
 ],
 "metadata": {
  "kernelspec": {
   "display_name": "Python 3.9.2 64-bit",
   "name": "python392jvsc74a57bd0aee8b7b246df8f9039afb4144a1f6fd8d2ca17a180786b69acc140d282b71a49"
  },
  "language_info": {
   "codemirror_mode": {
    "name": "ipython",
    "version": 3
   },
   "file_extension": ".py",
   "mimetype": "text/x-python",
   "name": "python",
   "nbconvert_exporter": "python",
   "pygments_lexer": "ipython3",
   "version": "3.9.2"
  },
  "metadata": {
   "interpreter": {
    "hash": "aee8b7b246df8f9039afb4144a1f6fd8d2ca17a180786b69acc140d282b71a49"
   }
  }
 },
 "nbformat": 4,
 "nbformat_minor": 5
}