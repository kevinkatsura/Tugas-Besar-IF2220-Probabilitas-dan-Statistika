{
 "cells": [
  {
   "cell_type": "code",
   "execution_count": 2,
   "id": "theoretical-amount",
   "metadata": {
    "tags": []
   },
   "outputs": [],
   "source": [
    "import pandas as pd\n",
    "import numpy as np\n",
    "import seaborn as sns\n",
    "import matplotlib.pyplot as plt\n",
    "from scipy import stats\n",
    "import math\n",
    "\n",
    "df = pd.read_csv('Gandum.csv', header = None)\n",
    "\n",
    "df.columns = [\"Id\", \"Daerah\", \"SumbuUtama\", \"SumbuKecil\", \"Keunikan\", \"AreaBulatan\", \"Diameter\", \"KadarAir\", \"Keliling\", \"Bulatan\", \"Ransum\", \"Kelas\"]\n",
    "\n",
    "df2 = df.drop([\"Id\"], axis = 1)\n",
    "\n",
    "df = df2.drop([\"Kelas\"], axis=1)\n"
   ]
  },
  {
   "cell_type": "markdown",
   "id": "split-subdivision",
   "metadata": {},
   "source": [
    "# **Nomor 1**\n",
    "    Menulis deskripsi statistika (Descriptive Statistics) dari semua kolom pada data yang bersifat\n",
    "    numerik, terdiri dari mean, median, modus, standar deviasi, variansi, range, nilai minimum,\n",
    "    maksimum, kuartil, IQR, skewness dan kurtosis. Boleh juga ditambahkan deskripsi lain."
   ]
  },
  {
   "cell_type": "markdown",
   "id": "established-limitation",
   "metadata": {},
   "source": [
    "### **Mean**"
   ]
  },
  {
   "cell_type": "code",
   "execution_count": 16,
   "id": "engaged-brain",
   "metadata": {},
   "outputs": [
    {
     "data": {
      "text/plain": [
       "Daerah         4801.246000\n",
       "SumbuUtama      116.045171\n",
       "SumbuKecil       53.715246\n",
       "Keunikan          0.878764\n",
       "AreaBulatan    4937.048000\n",
       "Diameter         77.771158\n",
       "KadarAir          0.648372\n",
       "Keliling        281.479722\n",
       "Bulatan           0.761737\n",
       "Ransum            2.150915\n",
       "dtype: float64"
      ]
     },
     "execution_count": 16,
     "metadata": {},
     "output_type": "execute_result"
    }
   ],
   "source": [
    "### Mean\n",
    "df.mean()"
   ]
  },
  {
   "cell_type": "markdown",
   "id": "economic-outside",
   "metadata": {},
   "source": [
    "### **Modus**"
   ]
  },
  {
   "cell_type": "code",
   "execution_count": 17,
   "id": "surrounded-liver",
   "metadata": {},
   "outputs": [
    {
     "name": "stdout",
     "output_type": "stream",
     "text": [
      " Daerah  SumbuUtama  SumbuKecil  Keunikan  AreaBulatan  Diameter  KadarAir  Keliling  Bulatan  Ransum\n",
      " 3992.0         NaN         NaN       NaN       3802.0 71.293564  0.735849       NaN      NaN     NaN\n",
      " 4881.0         NaN         NaN       NaN       4913.0 78.833256  0.824405       NaN      NaN     NaN\n",
      " 5642.0         NaN         NaN       NaN          NaN 84.756224       NaN       NaN      NaN     NaN\n",
      " 6083.0         NaN         NaN       NaN          NaN 88.006342       NaN       NaN      NaN     NaN\n"
     ]
    }
   ],
   "source": [
    "### Modus\n",
    "df_mode = df.mode()\n",
    "\n",
    "for column in df_mode:\n",
    "    if (df_mode[column].isnull().sum() == 0):\n",
    "        df_mode[column].loc[:] = np.nan\n",
    "        \n",
    "print(df_mode.mode().to_string(index = False))"
   ]
  },
  {
   "cell_type": "markdown",
   "id": "transparent-partnership",
   "metadata": {},
   "source": [
    "### **Standard Deviasi**"
   ]
  },
  {
   "cell_type": "code",
   "execution_count": 18,
   "id": "persistent-class",
   "metadata": {},
   "outputs": [
    {
     "data": {
      "text/plain": [
       "Daerah          986.395491\n",
       "SumbuUtama       18.282626\n",
       "SumbuKecil        4.071075\n",
       "Keunikan          0.036586\n",
       "AreaBulatan    1011.696255\n",
       "Diameter          8.056867\n",
       "KadarAir          0.094367\n",
       "Keliling         37.335402\n",
       "Bulatan           0.061702\n",
       "Ransum            0.249767\n",
       "dtype: float64"
      ]
     },
     "execution_count": 18,
     "metadata": {},
     "output_type": "execute_result"
    }
   ],
   "source": [
    "### Standar Deviasi\n",
    "df.std()"
   ]
  },
  {
   "cell_type": "markdown",
   "id": "detected-bundle",
   "metadata": {},
   "source": [
    "### **Variansi**"
   ]
  },
  {
   "cell_type": "code",
   "execution_count": 19,
   "id": "sharing-comedy",
   "metadata": {},
   "outputs": [
    {
     "data": {
      "text/plain": [
       "Daerah         9.729761e+05\n",
       "SumbuUtama     3.342544e+02\n",
       "SumbuKecil     1.657365e+01\n",
       "Keunikan       1.338528e-03\n",
       "AreaBulatan    1.023529e+06\n",
       "Diameter       6.491311e+01\n",
       "KadarAir       8.905149e-03\n",
       "Keliling       1.393932e+03\n",
       "Bulatan        3.807194e-03\n",
       "Ransum         6.238350e-02\n",
       "dtype: float64"
      ]
     },
     "execution_count": 19,
     "metadata": {},
     "output_type": "execute_result"
    }
   ],
   "source": [
    "### Variansi\n",
    "df.var()###.apply(lambda x: '%.4f' % x) <- Buat hapus bentuk scientific"
   ]
  },
  {
   "cell_type": "markdown",
   "id": "valid-abortion",
   "metadata": {},
   "source": [
    "### **Range**"
   ]
  },
  {
   "cell_type": "code",
   "execution_count": 20,
   "id": "different-january",
   "metadata": {},
   "outputs": [
    {
     "name": "stdout",
     "output_type": "stream",
     "text": [
      " Daerah  SumbuUtama  SumbuKecil  Keunikan  AreaBulatan  Diameter  KadarAir  Keliling  Bulatan   Ransum\n",
      "   4931  153.795469   29.071182  0.194085         5141 40.747172  0.468972   291.822 0.730158 1.024013\n"
     ]
    }
   ],
   "source": [
    "### Range\n",
    "new_data = {}\n",
    "\n",
    "for column in df:\n",
    "    new_data[column] = df[column].max() - df[column].min()\n",
    "    \n",
    "new_df = pd.DataFrame(new_data, index = [' '])\n",
    "\n",
    "print(new_df.to_string(index = False))"
   ]
  },
  {
   "cell_type": "markdown",
   "id": "confused-teaching",
   "metadata": {},
   "source": [
    "### **Min**"
   ]
  },
  {
   "cell_type": "code",
   "execution_count": 21,
   "id": "adult-reservoir",
   "metadata": {},
   "outputs": [
    {
     "data": {
      "text/plain": [
       "Daerah         2522.000000\n",
       "SumbuUtama       74.133114\n",
       "SumbuKecil       39.906517\n",
       "Keunikan          0.719916\n",
       "AreaBulatan    2579.000000\n",
       "Diameter         56.666658\n",
       "KadarAir          0.409927\n",
       "Keliling        197.015000\n",
       "Bulatan           0.174590\n",
       "Ransum            1.440796\n",
       "dtype: float64"
      ]
     },
     "execution_count": 21,
     "metadata": {},
     "output_type": "execute_result"
    }
   ],
   "source": [
    "### Min\n",
    "df.min()"
   ]
  },
  {
   "cell_type": "markdown",
   "id": "piano-heart",
   "metadata": {},
   "source": [
    "### **Max**"
   ]
  },
  {
   "cell_type": "code",
   "execution_count": 22,
   "id": "frozen-howard",
   "metadata": {},
   "outputs": [
    {
     "data": {
      "text/plain": [
       "Daerah         7453.000000\n",
       "SumbuUtama      227.928583\n",
       "SumbuKecil       68.977700\n",
       "Keunikan          0.914001\n",
       "AreaBulatan    7720.000000\n",
       "Diameter         97.413830\n",
       "KadarAir          0.878899\n",
       "Keliling        488.837000\n",
       "Bulatan           0.904748\n",
       "Ransum            2.464809\n",
       "dtype: float64"
      ]
     },
     "execution_count": 22,
     "metadata": {},
     "output_type": "execute_result"
    }
   ],
   "source": [
    "### Max\n",
    "df.max()"
   ]
  },
  {
   "cell_type": "markdown",
   "id": "advance-middle",
   "metadata": {},
   "source": [
    "### **Kuartil Bawah**"
   ]
  },
  {
   "cell_type": "code",
   "execution_count": 23,
   "id": "developmental-lottery",
   "metadata": {},
   "outputs": [
    {
     "data": {
      "text/plain": [
       "Daerah         4042.7500\n",
       "SumbuUtama      104.1161\n",
       "SumbuKecil       51.1936\n",
       "Keunikan          0.8637\n",
       "AreaBulatan    4170.2500\n",
       "Diameter         71.7453\n",
       "KadarAir          0.5726\n",
       "Keliling        255.8830\n",
       "Bulatan           0.7320\n",
       "Ransum            1.9839\n",
       "Name: 0.25, dtype: object"
      ]
     },
     "execution_count": 23,
     "metadata": {},
     "output_type": "execute_result"
    }
   ],
   "source": [
    "### Kuartil bawah\n",
    "df.quantile(.25).apply(lambda x: '%.4f' % x)"
   ]
  },
  {
   "cell_type": "markdown",
   "id": "animal-mirror",
   "metadata": {},
   "source": [
    "### **Median**"
   ]
  },
  {
   "cell_type": "code",
   "execution_count": 24,
   "id": "optional-planning",
   "metadata": {},
   "outputs": [
    {
     "data": {
      "text/plain": [
       "Daerah         4735.000000\n",
       "SumbuUtama      115.405140\n",
       "SumbuKecil       53.731199\n",
       "Keunikan          0.890045\n",
       "AreaBulatan    4857.000000\n",
       "Diameter         77.645277\n",
       "KadarAir          0.626117\n",
       "Keliling        280.045500\n",
       "Bulatan           0.761288\n",
       "Ransum            2.193599\n",
       "dtype: float64"
      ]
     },
     "execution_count": 24,
     "metadata": {},
     "output_type": "execute_result"
    }
   ],
   "source": [
    "### Median\n",
    "df.median()"
   ]
  },
  {
   "cell_type": "markdown",
   "id": "focused-shade",
   "metadata": {},
   "source": [
    "### **Kuartil Atas**"
   ]
  },
  {
   "cell_type": "code",
   "execution_count": 25,
   "id": "coordinated-accounting",
   "metadata": {},
   "outputs": [
    {
     "data": {
      "text/plain": [
       "Daerah         5495.500000\n",
       "SumbuUtama      129.046792\n",
       "SumbuKecil       56.325158\n",
       "Keunikan          0.907578\n",
       "AreaBulatan    5654.250000\n",
       "Diameter         83.648598\n",
       "KadarAir          0.726633\n",
       "Keliling        306.062500\n",
       "Bulatan           0.796361\n",
       "Ransum            2.381612\n",
       "Name: 0.75, dtype: float64"
      ]
     },
     "execution_count": 25,
     "metadata": {},
     "output_type": "execute_result"
    }
   ],
   "source": [
    "### Kuartil atas\n",
    "df.quantile(.75)"
   ]
  },
  {
   "cell_type": "markdown",
   "id": "tribal-adelaide",
   "metadata": {},
   "source": [
    "### **IQR**"
   ]
  },
  {
   "cell_type": "code",
   "execution_count": 26,
   "id": "previous-history",
   "metadata": {},
   "outputs": [
    {
     "name": "stdout",
     "output_type": "stream",
     "text": [
      " Daerah  SumbuUtama  SumbuKecil  Keunikan  AreaBulatan  Diameter  KadarAir  Keliling  Bulatan   Ransum\n",
      "1452.75   24.930694    5.131582  0.043902       1484.0  11.90329  0.154001   50.1795  0.06437 0.397673\n"
     ]
    }
   ],
   "source": [
    "### IQR\n",
    "new_data = {}\n",
    "\n",
    "for column in df:\n",
    "    new_data[column] = df[column].quantile(.75) - df[column].quantile(.25)\n",
    "    \n",
    "new_df = pd.DataFrame(new_data, index = [' '])\n",
    "\n",
    "print(new_df.to_string(index = False))"
   ]
  },
  {
   "cell_type": "markdown",
   "id": "inside-machinery",
   "metadata": {},
   "source": [
    "### **Skewness**"
   ]
  },
  {
   "cell_type": "code",
   "execution_count": 27,
   "id": "desperate-bangkok",
   "metadata": {},
   "outputs": [
    {
     "data": {
      "text/plain": [
       "Daerah         0.238144\n",
       "SumbuUtama     0.761529\n",
       "SumbuKecil    -0.010828\n",
       "Keunikan      -1.623472\n",
       "AreaBulatan    0.257560\n",
       "Diameter       0.002725\n",
       "KadarAir       0.493661\n",
       "Keliling       0.733627\n",
       "Bulatan       -3.599237\n",
       "Ransum        -0.658188\n",
       "dtype: float64"
      ]
     },
     "execution_count": 27,
     "metadata": {},
     "output_type": "execute_result"
    }
   ],
   "source": [
    "### Skewness\n",
    "df.skew()"
   ]
  },
  {
   "cell_type": "markdown",
   "id": "white-public",
   "metadata": {},
   "source": [
    "### **Kurtosis**"
   ]
  },
  {
   "cell_type": "code",
   "execution_count": 28,
   "id": "lyric-realtor",
   "metadata": {},
   "outputs": [
    {
     "data": {
      "text/plain": [
       "Daerah         -0.434631\n",
       "SumbuUtama      4.330534\n",
       "SumbuKecil      0.475568\n",
       "Keunikan        2.917256\n",
       "AreaBulatan    -0.409685\n",
       "Diameter       -0.466455\n",
       "KadarAir       -0.740326\n",
       "Keliling        2.272685\n",
       "Bulatan        29.975096\n",
       "Ransum         -0.428656\n",
       "dtype: float64"
      ]
     },
     "execution_count": 28,
     "metadata": {},
     "output_type": "execute_result"
    }
   ],
   "source": [
    "### Kurtosis\n",
    "df.kurtosis()"
   ]
  },
  {
   "cell_type": "markdown",
   "id": "liberal-public",
   "metadata": {},
   "source": [
    "# **Nomor 2**\n",
    "    Membuat Visualisasi plot distribusi, dalam bentuk histogram dan boxplot untuk setiap\n",
    "    kolom numerik. Berikan uraian penjelasan kondisi setiap kolom berdasarkan kedua plot\n",
    "    tersebut."
   ]
  },
  {
   "cell_type": "markdown",
   "id": "quarterly-kingdom",
   "metadata": {},
   "source": [
    "### **Kolom \"Daerah\"**"
   ]
  },
  {
   "cell_type": "code",
   "execution_count": 29,
   "id": "fourth-desperate",
   "metadata": {},
   "outputs": [
    {
     "data": {
      "image/png": "[encoded data removed]",
      "text/plain": [
       "<Figure size 432x288 with 1 Axes>"
      ]
     },
     "metadata": {},
     "output_type": "display_data"
    }
   ],
   "source": [
    "# Histogram Kolom Daerah\n",
    "sns.set_theme()\n",
    "sns.histplot(data=df[\"Daerah\"])\n",
    "plt.show()"
   ]
  },
  {
   "cell_type": "markdown",
   "id": "global-invite",
   "metadata": {},
   "source": [
    "Dari **Histogram** di atas, dapat dilihat bahwa data memiliki **Berdistribusi frekuensi kontinu** ( tidak terdapat data pencilan ). Dari diagram tersebut juga dapat kita lihat bahwa data ***Daerah*** **cukup simetris**. Oleh karena itu dapat dikatakan bahwa data **terdistribusi normal**\n",
    "\n",
    "Kenormalan distribusi dari data *Daerah* ini didukung oleh visualisasi boxplot di bawah. Boxplot tersebut menunjukkan bahwa **tidak ada data outliers/pencilan** (tidak ada data di luar maksimum dan minimum).\n"
   ]
  },
  {
   "cell_type": "code",
   "execution_count": 30,
   "id": "novel-communications",
   "metadata": {},
   "outputs": [
    {
     "data": {
      "image/png": "[encoded data removed]",
      "text/plain": [
       "<Figure size 432x288 with 1 Axes>"
      ]
     },
     "metadata": {},
     "output_type": "display_data"
    }
   ],
   "source": [
    "# Boxplot Kolom Daerah\n",
    "sns.boxplot(x=df[\"Daerah\"],palette=\"Set3\")\n",
    "plt.show()"
   ]
  },
  {
   "cell_type": "markdown",
   "id": "mechanical-colonial",
   "metadata": {},
   "source": [
    "### *Kolom \"SumbuUtama\"*"
   ]
  },
  {
   "cell_type": "code",
   "execution_count": 31,
   "id": "smart-evidence",
   "metadata": {},
   "outputs": [
    {
     "data": {
      "image/png": "[encoded data removed]",
      "text/plain": [
       "<Figure size 432x288 with 1 Axes>"
      ]
     },
     "metadata": {},
     "output_type": "display_data"
    }
   ],
   "source": [
    "# Histogram Kolom SumbuUtama\n",
    "sns.histplot(data=df[\"SumbuUtama\"])\n",
    "plt.show()"
   ]
  },
  {
   "cell_type": "markdown",
   "id": "other-gauge",
   "metadata": {},
   "source": [
    "Dari **Histogram** di atas, dapat dilihat bahwa data **tidak berdistribusi frekuensi kontinu**. Dari diagram tersebut, data **cukup terdistribusi normal** ditunjuk dengan **kesimetrisan diagram** walau terdapat sedikit nilai yang terpisah jauh dari distribusi normalnya.\n",
    "\n",
    "Kenormalan distribusi dari data *SumbuUtama* ini didukung oleh visualisasi boxplot di bawah. Boxplot tersebut menunjukkan bahwa **terdapat data outliers/pencilan**. Hal tersebut ditunjukkan bahwa ada data yang bernilai sekitar 220 sampai 230 yang berada di atas batas maksimum data.\n"
   ]
  },
  {
   "cell_type": "code",
   "execution_count": 32,
   "id": "reflected-force",
   "metadata": {},
   "outputs": [
    {
     "data": {
      "image/png": "[encoded data removed]",
      "text/plain": [
       "<Figure size 432x288 with 1 Axes>"
      ]
     },
     "metadata": {},
     "output_type": "display_data"
    }
   ],
   "source": [
    "# Boxplot Kolom SumbuUtama\n",
    "sns.boxplot(x = df[\"SumbuUtama\"],palette=\"Set3\")\n",
    "plt.show()"
   ]
  },
  {
   "cell_type": "markdown",
   "id": "promotional-demographic",
   "metadata": {},
   "source": [
    "### **Kolom \"SumbuKecil\"**"
   ]
  },
  {
   "cell_type": "code",
   "execution_count": 33,
   "id": "seven-harassment",
   "metadata": {},
   "outputs": [
    {
     "data": {
      "image/png": "[encoded data removed]",
      "text/plain": [
       "<Figure size 432x288 with 1 Axes>"
      ]
     },
     "metadata": {},
     "output_type": "display_data"
    }
   ],
   "source": [
    "# Histogram Kolom SumbuKecil\n",
    "sns.histplot(data=df[\"SumbuKecil\"])\n",
    "plt.show()"
   ]
  },
  {
   "cell_type": "markdown",
   "id": "intended-fellow",
   "metadata": {},
   "source": [
    "Dari **Histogram** di atas, dapat dilihat bahwa data **tidak berdistribusi frekuensi kontinu** karena terdapat persebaran data yang tidak terhubung di sisi kanan diagram. Dari diagram tersebut juga dapat kita lihat bahwa data ***SumbuKecil*** **simetris**. Oleh karena itu dapat dikatakan bahwa data **terdistribusi normal**\n",
    "\n",
    "Kenormalan distribusi dari data *SumbuKecil* ini didukung oleh visualisasi boxplot di bawah. Boxplot tersebut menunjukkan bahwa **terdapat data outliers/pencilan** yang ditunjukkan oleh titik-titik diluar batas maksimum dan minimum. Terdapat empat nilai di bawah batas minimum dan dua nilai di atas batas maksimum.\n"
   ]
  },
  {
   "cell_type": "code",
   "execution_count": 34,
   "id": "dedicated-postage",
   "metadata": {},
   "outputs": [
    {
     "data": {
      "image/png": "[encoded data removed]",
      "text/plain": [
       "<Figure size 432x288 with 1 Axes>"
      ]
     },
     "metadata": {},
     "output_type": "display_data"
    }
   ],
   "source": [
    "# Boxplot Kolom SumbuKecil\n",
    "sns.boxplot(x=df[\"SumbuKecil\"],palette=\"Set3\")\n",
    "plt.show()"
   ]
  },
  {
   "cell_type": "markdown",
   "id": "sufficient-advisory",
   "metadata": {},
   "source": [
    "### **Kolom \"Keunikan\"**"
   ]
  },
  {
   "cell_type": "code",
   "execution_count": 35,
   "id": "found-telescope",
   "metadata": {},
   "outputs": [
    {
     "data": {
      "image/png": "[encoded data removed]",
      "text/plain": [
       "<Figure size 432x288 with 1 Axes>"
      ]
     },
     "metadata": {},
     "output_type": "display_data"
    }
   ],
   "source": [
    "# Histogram Kolom Keunikan\n",
    "sns.histplot(data=df[\"Keunikan\"])\n",
    "plt.show()"
   ]
  },
  {
   "cell_type": "markdown",
   "id": "satellite-brain",
   "metadata": {},
   "source": [
    "Dari **Histogram** di atas, dapat dilihat bahwa data **tidak berdistribusi frekuensi kontinu** karena terdapat persebaran data yang tidak terhubung di sisi kiri diagram. Dari diagram tersebut juga dapat kita lihat bahwa data ***Keunikan*** **jauh dari simetris**. Oleh karena itu dapat dikatakan bahwa data **tidak terdistribusi normal**\n",
    "\n",
    "Distribusi dari data *Keunikan* ini didukung oleh visualisasi boxplot di bawah. Boxplot tersebut menunjukkan bahwa **terdapat banyak data outliers/pencilan** yang ditunjukkan oleh titik-titik diluar batas minimum.\n"
   ]
  },
  {
   "cell_type": "code",
   "execution_count": 36,
   "id": "handmade-direction",
   "metadata": {},
   "outputs": [
    {
     "data": {
      "image/png": "[encoded data removed]",
      "text/plain": [
       "<Figure size 432x288 with 1 Axes>"
      ]
     },
     "metadata": {},
     "output_type": "display_data"
    }
   ],
   "source": [
    "# Boxplot Kolom Keunikan\n",
    "sns.boxplot(x=df[\"Keunikan\"],palette=\"Set3\")\n",
    "plt.show()"
   ]
  },
  {
   "cell_type": "markdown",
   "id": "excess-crystal",
   "metadata": {},
   "source": [
    "### **Kolom \"AreaBulatan\"**"
   ]
  },
  {
   "cell_type": "code",
   "execution_count": 37,
   "id": "homeless-collective",
   "metadata": {},
   "outputs": [
    {
     "data": {
      "image/png": "[encoded data removed]",
      "text/plain": [
       "<Figure size 432x288 with 1 Axes>"
      ]
     },
     "metadata": {},
     "output_type": "display_data"
    }
   ],
   "source": [
    "# Histogram Kolom AreaBulatan\n",
    "sns.histplot(data=df[\"AreaBulatan\"])\n",
    "plt.show()"
   ]
  },
  {
   "cell_type": "markdown",
   "id": "organized-pierre",
   "metadata": {},
   "source": [
    "Dari **Histogram** di atas, dapat dilihat bahwa data **Berdistribusi frekuensi kontinu** ( tidak terdapat data pencilan ). Dari diagram tersebut juga dapat kita lihat bahwa data ***AreaBulatan*** **cukup simetris**. Oleh karena itu dapat dikatakan bahwa data **terdistribusi normal**\n",
    "\n",
    "Kenormalan distribusi dari data *AreaBulatan* ini didukung oleh visualisasi boxplot di bawah. Boxplot tersebut menunjukkan bahwa **tidak ada data outliers/pencilan** (tidak ada data di luar maksimum dan minimum). Jika dilihat dari boxplot, jarak dari nilai minimum data ke nilai tengah lebih kecil dibandingkan jarak dari nilai maksimum data ke nilai tengah. Hal ini ditunjukkan oleh panjang lengan kiri lebih kecil dari kanan.\n"
   ]
  },
  {
   "cell_type": "code",
   "execution_count": 38,
   "id": "burning-profession",
   "metadata": {},
   "outputs": [
    {
     "data": {
      "image/png": "[encoded data removed]",
      "text/plain": [
       "<Figure size 432x288 with 1 Axes>"
      ]
     },
     "metadata": {},
     "output_type": "display_data"
    }
   ],
   "source": [
    "# Boxplot Kolom AreaBulatan\n",
    "sns.boxplot(x=df[\"AreaBulatan\"],palette=\"Set3\")\n",
    "plt.show()"
   ]
  },
  {
   "cell_type": "markdown",
   "id": "ancient-absence",
   "metadata": {},
   "source": [
    "### **Kolom \"Diameter\"**"
   ]
  },
  {
   "cell_type": "code",
   "execution_count": 39,
   "id": "saved-sender",
   "metadata": {},
   "outputs": [
    {
     "data": {
      "image/png": "[encoded data removed]",
      "text/plain": [
       "<Figure size 432x288 with 1 Axes>"
      ]
     },
     "metadata": {},
     "output_type": "display_data"
    }
   ],
   "source": [
    "# Histogram Kolom Diameter\n",
    "sns.histplot(data=df[\"Diameter\"])\n",
    "plt.show()"
   ]
  },
  {
   "cell_type": "markdown",
   "id": "compatible-asthma",
   "metadata": {},
   "source": [
    "Dari **Histogram** di atas, dapat dilihat bahwa data **Berdistribusi frekuensi kontinu** ( tidak terdapat data pencilan ). Dari diagram tersebut juga dapat kita lihat bahwa data ***Diameter*** **simetris**. Oleh karena itu dapat dikatakan bahwa data **terdistribusi normal**\n",
    "\n",
    "Kenormalan distribusi dari data *Diameter* ini didukung oleh visualisasi boxplot di bawah. Boxplot tersebut menunjukkan bahwa **tidak ada data outliers/pencilan** (tidak ada data di luar maksimum dan minimum)."
   ]
  },
  {
   "cell_type": "code",
   "execution_count": 40,
   "id": "billion-burning",
   "metadata": {},
   "outputs": [
    {
     "data": {
      "image/png": "[encoded data removed]",
      "text/plain": [
       "<Figure size 432x288 with 1 Axes>"
      ]
     },
     "metadata": {},
     "output_type": "display_data"
    }
   ],
   "source": [
    "# Boxplot Kolom Diameter\n",
    "sns.boxplot(x=df[\"Diameter\"],palette=\"Set3\")\n",
    "plt.show()"
   ]
  },
  {
   "cell_type": "markdown",
   "id": "fresh-spoke",
   "metadata": {},
   "source": [
    "### **Kolom \"KadarAir\"**"
   ]
  },
  {
   "cell_type": "code",
   "execution_count": 41,
   "id": "underlying-personal",
   "metadata": {},
   "outputs": [
    {
     "data": {
      "image/png": "[encoded data removed]",
      "text/plain": [
       "<Figure size 432x288 with 1 Axes>"
      ]
     },
     "metadata": {},
     "output_type": "display_data"
    }
   ],
   "source": [
    "# Histogram Kolom KadarAir\n",
    "sns.histplot(data=df[\"KadarAir\"])\n",
    "plt.show()"
   ]
  },
  {
   "cell_type": "markdown",
   "id": "suffering-spelling",
   "metadata": {},
   "source": [
    "Dari **Histogram** di atas, dapat dilihat bahwa data **tidak berdistribusi frekuensi kontinu** karena terdapat persebaran data yang tidak terhubung di sisi kiri diagram. Dari diagram tersebut juga dapat kita lihat bahwa data ***KadarAir*** **cukup simetris**. Oleh karena itu dapat dikatakan bahwa data **terdistribusi normal**\n",
    "\n",
    "Distribusi dari data *KadarAir* ini didukung oleh visualisasi boxplot di bawah. Boxplot tersebut menunjukkan bahwa **tidak terdapat outliers/pencilan pada data**. Walaupun data tidak berdistribusi frekuensi kontinu, tapi nilai dari data yang terpisah tersebut masih berada pada range batas minumum dan maksimum (Q1 - 1.5*IR sampai Q3 + 1.5*IR).\n"
   ]
  },
  {
   "cell_type": "code",
   "execution_count": 42,
   "id": "frank-footage",
   "metadata": {},
   "outputs": [
    {
     "data": {
      "image/png": "[encoded data removed]",
      "text/plain": [
       "<Figure size 432x288 with 1 Axes>"
      ]
     },
     "metadata": {},
     "output_type": "display_data"
    }
   ],
   "source": [
    "# Boxplot Kolom KadarAir\n",
    "sns.boxplot(x=df[\"KadarAir\"],palette=\"Set3\")\n",
    "plt.show()"
   ]
  },
  {
   "cell_type": "markdown",
   "id": "automotive-advisory",
   "metadata": {},
   "source": [
    "### **Kolom \"Keliling\"**"
   ]
  },
  {
   "cell_type": "code",
   "execution_count": 43,
   "id": "lesbian-exclusion",
   "metadata": {},
   "outputs": [
    {
     "data": {
      "image/png": "[encoded data removed]",
      "text/plain": [
       "<Figure size 432x288 with 1 Axes>"
      ]
     },
     "metadata": {},
     "output_type": "display_data"
    }
   ],
   "source": [
    "# Histogram Kolom Keliling\n",
    "sns.histplot(data=df[\"Keliling\"])\n",
    "plt.show()"
   ]
  },
  {
   "cell_type": "markdown",
   "id": "enormous-bangladesh",
   "metadata": {},
   "source": [
    "Dari **Histogram** di atas, dapat dilihat bahwa data **tidak berdistribusi frekuensi kontinu** karena terdapat persebaran data yang tidak terhubung di sisi kanan diagram. Dari diagram tersebut juga dapat kita lihat bahwa data ***Keliling*** **tidak terlalu simetris**. Oleh karena itu dapat dikatakan bahwa data **moderately terdistribusi normal**\n",
    "\n",
    "Distribusi dari data *Keliling* ini didukung oleh visualisasi boxplot di bawah. Boxplot tersebut menunjukkan bahwa **terdapat beberapa data outliers/pencilan**. Terdapat empat data pencilan yang berada diluar batas maksimum.\n"
   ]
  },
  {
   "cell_type": "code",
   "execution_count": 44,
   "id": "residential-humor",
   "metadata": {},
   "outputs": [
    {
     "data": {
      "image/png": "[encoded data removed]",
      "text/plain": [
       "<Figure size 432x288 with 1 Axes>"
      ]
     },
     "metadata": {},
     "output_type": "display_data"
    }
   ],
   "source": [
    "# Boxplot Kolom Keliling\n",
    "sns.boxplot(x=df[\"Keliling\"],palette=\"Set3\")\n",
    "plt.show()"
   ]
  },
  {
   "cell_type": "markdown",
   "id": "failing-greek",
   "metadata": {},
   "source": [
    "### **Kolom \"Bulatan\"**"
   ]
  },
  {
   "cell_type": "code",
   "execution_count": 45,
   "id": "minor-softball",
   "metadata": {},
   "outputs": [
    {
     "data": {
      "image/png": "[encoded data removed]",
      "text/plain": [
       "<Figure size 432x288 with 1 Axes>"
      ]
     },
     "metadata": {},
     "output_type": "display_data"
    }
   ],
   "source": [
    "# Histogram Kolom Bulatan\n",
    "sns.histplot(data=df[\"Bulatan\"])\n",
    "plt.show()"
   ]
  },
  {
   "cell_type": "markdown",
   "id": "american-basics",
   "metadata": {},
   "source": [
    "Dari **Histogram** di atas, dapat dilihat bahwa data **tidak berdistribusi frekuensi kontinu** karena terdapat beberapa data yang tidak terhubung pada persebaran umumnya ( di diagram, terdapat 3 bagian data di sebelah kiri yang tidak terhubung). Dari diagram tersebut juga dapat kita lihat bahwa data ***Bulatan*** **jauh dari simetris**. Oleh karena itu dapat dikatakan bahwa data **tidak terdistribusi normal**\n",
    "\n",
    "Distribusi dari data *Keunikan* ini didukung oleh visualisasi boxplot di bawah. Boxplot tersebut menunjukkan bahwa **terdapat beberapa data outliers/pencilan** yang ditunjukkan oleh titik-titik diluar batas minimum dan maksimum. Pada boxplot di bawah, data pencilan di bawah batas minimum lebih banyak dibandingkan di atas maksimum.\n"
   ]
  },
  {
   "cell_type": "code",
   "execution_count": 46,
   "id": "dominican-spice",
   "metadata": {},
   "outputs": [
    {
     "data": {
      "image/png": "[encoded data removed]",
      "text/plain": [
       "<Figure size 432x288 with 1 Axes>"
      ]
     },
     "metadata": {},
     "output_type": "display_data"
    }
   ],
   "source": [
    "# Boxplot Kolom Bulatan\n",
    "sns.boxplot(x=df[\"Bulatan\"],palette=\"Set3\")\n",
    "plt.show()"
   ]
  },
  {
   "cell_type": "markdown",
   "id": "minute-mandate",
   "metadata": {},
   "source": [
    "### **Kolom \"Ransum\"**"
   ]
  },
  {
   "cell_type": "code",
   "execution_count": 47,
   "id": "moderate-olympus",
   "metadata": {},
   "outputs": [
    {
     "data": {
      "image/png": "[encoded data removed]",
      "text/plain": [
       "<Figure size 432x288 with 1 Axes>"
      ]
     },
     "metadata": {},
     "output_type": "display_data"
    }
   ],
   "source": [
    "# Histogram Kolom Ransum\n",
    "sns.histplot(data=df[\"Ransum\"])\n",
    "plt.show()"
   ]
  },
  {
   "cell_type": "markdown",
   "id": "liberal-blocking",
   "metadata": {},
   "source": [
    "Dari **Histogram** di atas, dapat dilihat bahwa data **berdistribusi frekuensi kontinu** karena semua data terhubung pada persebaran umumnya. Dari diagram tersebut juga dapat kita lihat bahwa data ***Ransum*** **tidak terlalu simetris**. Oleh karena itu dapat dikatakan bahwa data **moderately terdistribusi normal**\n",
    "\n",
    "Distribusi dari data *Ransum* ini didukung oleh visualisasi boxplot di bawah. Boxplot tersebut menunjukkan bahwa **tidak terdapat outliers/pencilan** ( tidak ada data di luar batas maksimum dan minimum ). Dari boxplot juga dapat kita lihat bahwa jarak data minimum ke nilai tengah lebih besar dibandingkan jarak data maksimum. Hal tersebut ditunjukkan bahwa lengan kiri yang lebih panjang dibandingkan lengan kanan.\n"
   ]
  },
  {
   "cell_type": "code",
   "execution_count": 48,
   "id": "inappropriate-electronics",
   "metadata": {},
   "outputs": [
    {
     "data": {
      "image/png": "[encoded data removed]",
      "text/plain": [
       "<Figure size 432x288 with 1 Axes>"
      ]
     },
     "metadata": {},
     "output_type": "display_data"
    }
   ],
   "source": [
    "# Boxplot Kolom Ransum\n",
    "sns.boxplot(x=df[\"Ransum\"],palette=\"Set3\")\n",
    "plt.show()"
   ]
  },
  {
   "cell_type": "markdown",
   "id": "welsh-cherry",
   "metadata": {},
   "source": [
    "# **Nomor 3**\n",
    "    Menentukan setiap kolom numerik berdistribusi normal atau tidak. Gunakan normality test\n",
    "    yang dikaitkan dengan histogram plot."
   ]
  },
  {
   "cell_type": "markdown",
   "id": "immediate-wiring",
   "metadata": {},
   "source": [
    "### **Kolom Daerah**"
   ]
  },
  {
   "cell_type": "code",
   "execution_count": 49,
   "id": "imperial-brook",
   "metadata": {},
   "outputs": [
    {
     "data": {
      "image/png": "[encoded data removed]",
      "text/plain": [
       "<Figure size 432x288 with 1 Axes>"
      ]
     },
     "metadata": {},
     "output_type": "display_data"
    }
   ],
   "source": [
    "# Menggunakan Histogram\n",
    "# Histogram Kolom Daerah\n",
    "sns.set_theme()\n",
    "sns.histplot(data=df[\"Daerah\"],kde=True)\n",
    "plt.show()"
   ]
  },
  {
   "cell_type": "markdown",
   "id": "japanese-premium",
   "metadata": {},
   "source": [
    "Data di atas **terdistribusi normal** karena  kurva nya **simetris/Gaussian shape** "
   ]
  },
  {
   "cell_type": "markdown",
   "id": "reverse-romance",
   "metadata": {},
   "source": [
    "### **Kolom SumbuUtama**"
   ]
  },
  {
   "cell_type": "code",
   "execution_count": 50,
   "id": "intense-hormone",
   "metadata": {},
   "outputs": [
    {
     "data": {
      "image/png": "[encoded data removed]",
      "text/plain": [
       "<Figure size 432x288 with 1 Axes>"
      ]
     },
     "metadata": {},
     "output_type": "display_data"
    }
   ],
   "source": [
    "# Histogram Kolom SumbuUtama\n",
    "sns.set_theme()\n",
    "sns.histplot(data=df[\"SumbuUtama\"],kde=True)\n",
    "plt.show()"
   ]
  },
  {
   "cell_type": "markdown",
   "id": "controlled-barrier",
   "metadata": {},
   "source": [
    "Data di atas **moderately terdistribusi normal** karena  kurva nya **cukup simetris/Gaussian shape**"
   ]
  },
  {
   "cell_type": "markdown",
   "id": "outdoor-voluntary",
   "metadata": {},
   "source": [
    "### **Kolom SumbuKecil**"
   ]
  },
  {
   "cell_type": "code",
   "execution_count": 51,
   "id": "palestinian-depth",
   "metadata": {},
   "outputs": [
    {
     "data": {
      "image/png": "[encoded data removed]",
      "text/plain": [
       "<Figure size 432x288 with 1 Axes>"
      ]
     },
     "metadata": {},
     "output_type": "display_data"
    }
   ],
   "source": [
    "# Histogram Kolom SumbuKecil\n",
    "sns.set_theme()\n",
    "sns.histplot(data=df[\"SumbuKecil\"],kde=True)\n",
    "plt.show()"
   ]
  },
  {
   "cell_type": "markdown",
   "id": "fantastic-american",
   "metadata": {},
   "source": [
    "Data di atas **terdistribusi normal** karena  kurva nya **tepat simetris/Gaussian shape**"
   ]
  },
  {
   "cell_type": "markdown",
   "id": "sunset-aluminum",
   "metadata": {},
   "source": [
    "### **Kolom Keunikan**"
   ]
  },
  {
   "cell_type": "code",
   "execution_count": 52,
   "id": "collective-welcome",
   "metadata": {},
   "outputs": [
    {
     "data": {
      "image/png": "[encoded data removed]",
      "text/plain": [
       "<Figure size 432x288 with 1 Axes>"
      ]
     },
     "metadata": {},
     "output_type": "display_data"
    }
   ],
   "source": [
    "# Histogram Kolom SumbuKecil\n",
    "sns.set_theme()\n",
    "sns.histplot(data=df[\"Keunikan\"],kde=True)\n",
    "plt.show()"
   ]
  },
  {
   "cell_type": "markdown",
   "id": "simplified-fusion",
   "metadata": {},
   "source": [
    "Data di atas **tidak terdistribusi normal** karena  kurva nya **tidak simetris/tidak memenuhi Gaussian shape**"
   ]
  },
  {
   "cell_type": "markdown",
   "id": "premium-burden",
   "metadata": {},
   "source": [
    "### **Kolom AreaBulatan**"
   ]
  },
  {
   "cell_type": "code",
   "execution_count": 53,
   "id": "appropriate-pharmacology",
   "metadata": {},
   "outputs": [
    {
     "data": {
      "image/png": "[encoded data removed]",
      "text/plain": [
       "<Figure size 432x288 with 1 Axes>"
      ]
     },
     "metadata": {},
     "output_type": "display_data"
    }
   ],
   "source": [
    "# Histogram Kolom SumbuKecil\n",
    "sns.set_theme()\n",
    "sns.histplot(data=df[\"AreaBulatan\"],kde=True)\n",
    "plt.show()"
   ]
  },
  {
   "cell_type": "markdown",
   "id": "voluntary-nutrition",
   "metadata": {},
   "source": [
    "Data di atas **terdistribusi normal** karena  kurva nya **simetris/Gaussian shape**"
   ]
  },
  {
   "cell_type": "markdown",
   "id": "active-antibody",
   "metadata": {},
   "source": [
    "### **Kolom Diameter**"
   ]
  },
  {
   "cell_type": "code",
   "execution_count": 54,
   "id": "conscious-destiny",
   "metadata": {},
   "outputs": [
    {
     "data": {
      "image/png": "[encoded data removed]",
      "text/plain": [
       "<Figure size 432x288 with 1 Axes>"
      ]
     },
     "metadata": {},
     "output_type": "display_data"
    }
   ],
   "source": [
    "# Histogram Kolom SumbuKecil\n",
    "sns.set_theme()\n",
    "sns.histplot(data=df[\"Diameter\"],kde=True)\n",
    "plt.show()"
   ]
  },
  {
   "cell_type": "markdown",
   "id": "assured-plaza",
   "metadata": {},
   "source": [
    "Data di atas **terdistribusi normal** karena  kurva nya **simetris/Gaussian shape**"
   ]
  },
  {
   "cell_type": "markdown",
   "id": "alternate-modem",
   "metadata": {},
   "source": [
    "### **Kolom KadarAir**"
   ]
  },
  {
   "cell_type": "code",
   "execution_count": 55,
   "id": "fewer-spouse",
   "metadata": {},
   "outputs": [
    {
     "data": {
      "image/png": "[encoded data removed]",
      "text/plain": [
       "<Figure size 432x288 with 1 Axes>"
      ]
     },
     "metadata": {},
     "output_type": "display_data"
    }
   ],
   "source": [
    "# Histogram Kolom SumbuKecil\n",
    "sns.set_theme()\n",
    "sns.histplot(data=df[\"KadarAir\"],kde=True)\n",
    "plt.show()"
   ]
  },
  {
   "cell_type": "markdown",
   "id": "tutorial-profit",
   "metadata": {},
   "source": [
    "Data di atas masih **terdistribusi normal** karena  kurva nya **cukup simetris/Gaussian shape**"
   ]
  },
  {
   "cell_type": "markdown",
   "id": "chinese-argument",
   "metadata": {},
   "source": [
    "### **Kolom Keliling**"
   ]
  },
  {
   "cell_type": "code",
   "execution_count": 56,
   "id": "renewable-fellowship",
   "metadata": {},
   "outputs": [
    {
     "data": {
      "image/png": "[encoded data removed]",
      "text/plain": [
       "<Figure size 432x288 with 1 Axes>"
      ]
     },
     "metadata": {},
     "output_type": "display_data"
    }
   ],
   "source": [
    "# Histogram Kolom SumbuKecil\n",
    "sns.set_theme()\n",
    "sns.histplot(data=df[\"Keliling\"],kde=True)\n",
    "plt.show()"
   ]
  },
  {
   "cell_type": "markdown",
   "id": "mathematical-generic",
   "metadata": {},
   "source": [
    "Data di atas **moderately terdistribusi normal** karena  kurva nya **cukup simetris/Gaussian shape**"
   ]
  },
  {
   "cell_type": "markdown",
   "id": "alien-despite",
   "metadata": {},
   "source": [
    "### **Kolom Bulatan**"
   ]
  },
  {
   "cell_type": "code",
   "execution_count": 57,
   "id": "explicit-explosion",
   "metadata": {},
   "outputs": [
    {
     "data": {
      "image/png": "[encoded data removed]",
      "text/plain": [
       "<Figure size 432x288 with 1 Axes>"
      ]
     },
     "metadata": {},
     "output_type": "display_data"
    }
   ],
   "source": [
    "# Histogram Kolom SumbuKecil\n",
    "sns.set_theme()\n",
    "sns.histplot(data=df[\"Bulatan\"],kde=True)\n",
    "plt.show()"
   ]
  },
  {
   "cell_type": "markdown",
   "id": "honey-story",
   "metadata": {},
   "source": [
    "Data di atas **tidak terdistribusi normal** karena  kurva nya **sangat tidak simetris/tidak memenuhi Gaussian shape**. Nilai nilai pencilan yang ada berpengaruh besar pada kesimetrisan diagram di atas."
   ]
  },
  {
   "cell_type": "markdown",
   "id": "accessible-hampshire",
   "metadata": {},
   "source": [
    "### **Kolom Ransum**"
   ]
  },
  {
   "cell_type": "code",
   "execution_count": 58,
   "id": "precise-democrat",
   "metadata": {},
   "outputs": [
    {
     "data": {
      "image/png": "[encoded data removed]",
      "text/plain": [
       "<Figure size 432x288 with 1 Axes>"
      ]
     },
     "metadata": {},
     "output_type": "display_data"
    }
   ],
   "source": [
    "# Histogram Kolom SumbuKecil\n",
    "sns.set_theme()\n",
    "sns.histplot(data=df[\"Ransum\"],kde=True)\n",
    "plt.show()"
   ]
  },
  {
   "cell_type": "markdown",
   "id": "heated-shield",
   "metadata": {},
   "source": [
    "Data di atas **terdistribusi normal** karena  kurva nya **cukup simetris/Gaussian shape**"
   ]
  },
  {
   "cell_type": "markdown",
   "id": "short-bench",
   "metadata": {},
   "source": [
    "# **Nomor 4**\n",
    "    Melakukan test hipotesis 1 sampel, dengan menuliskan 6 langkah testing dan menampilkan\n",
    "    juga boxplotnya untuk kolom/bagian yang bersesuaian.\n",
    "\n",
    "    a. Nilai rata-rata Daerah di atas 4700?\n",
    "    b. Nilai Rata-rata Sumbu Utama tidak sama dengan 116?\n",
    "    c. Nilai Rata-rata 20 baris pertama kolom Sumbu Kecil bukan 50?\n",
    "    d. Proporsi nilai Diameter yang lebih dari 85, adalah tidak sama dengan 15% ?\n",
    "    e. Proporsi nilai Keliling yang kurang dari 100, adalah kurang dari 5% ?\n",
    "\n",
    "**Enam Langkah Testing:**\n",
    "1. Tentukan Hipotesis nol (H0: θ = θ0), dimana θ bisa berupa μ, σ, p, atau data lain berdistribusi tertentu (normal, binomial, dsc.).\n",
    "2. Pilih hipotesis alternatif H1 salah dari dari θ > θ0, θ < θ0, atau θ ≠ θ0.\n",
    "3. Tentukan tingkat signifikan α.\n",
    "4. Tentukan uji statistik yang sesuai dan tentukan daerah kritis.\n",
    "5. Hitung nilai uji statistik dari data sample. Hitung p-value sesuai dengan uji statistik yang digunakan.\n",
    "6. Ambil keputusan dengan TOLAK H0 jika nilai uji terletak di daerah kritis atau dengan tessignifikan, TOLAK H0 jika p-value lebih kecil dibanding tingkat signifikansi α yang diinginkan."
   ]
  },
  {
   "cell_type": "markdown",
   "id": "normal-laugh",
   "metadata": {},
   "source": [
    "## **a. Nilai rata-rata Daerah di atas 4700?**\n",
    "Kolom *Daerah* pada data\n",
    "> n = 500\n",
    "\n",
    "> s = 986.395491\n",
    "\n",
    "> x̅ = 4801.246000"
   ]
  },
  {
   "cell_type": "code",
   "execution_count": 59,
   "id": "floral-zoning",
   "metadata": {},
   "outputs": [
    {
     "data": {
      "image/png": "[encoded data removed]",
      "text/plain": [
       "<Figure size 432x288 with 1 Axes>"
      ]
     },
     "metadata": {},
     "output_type": "display_data"
    }
   ],
   "source": [
    "# Boxplot Kolom Daerah\n",
    "sns.boxplot(x=df[\"Daerah\"],palette=\"Set3\")\n",
    "plt.show()"
   ]
  },
  {
   "cell_type": "markdown",
   "id": "complicated-earth",
   "metadata": {},
   "source": [
    "**Hipotesis nol**          \n",
    "\n",
    "> H0: 𝝻 = 4700 \n",
    "\n",
    "**Hipotesis Alternatif** \n",
    "\n",
    "> H1: 𝝻 > 4700\n",
    "\n",
    "**Tingkat signifikan**\n",
    "\n",
    "> 𝛼 = 0.05\n",
    "\n",
    "**Daerah Kritis** \n",
    "\n",
    "> t > 1.645, diperoleh dar P(t < 1.645) = 0.95 \n",
    "\n",
    "**Uji Statistik yang sesuai**\n",
    "\n",
    "> T Distribution\n",
    "\n",
    "> t = (x̅ - 𝝻)/(s/√n)\n",
    "\n",
    "**Nilai Uji Statistik**\n",
    "\n",
    "> t = (4801.246000 - 4700) / (986.395491/√500)\n",
    "\n",
    "> t = 101.246/44.11295\n",
    "\n",
    "> t = 2.29515\n",
    "\n",
    "**P-Value**\n",
    "\n",
    "> P (t > 2.29515) = 0.0125\n",
    "\n",
    "**Keputusan**\n",
    "\n",
    "> **Tolak H0** karena nilai uji = 2.29515 > 1.645 dan (P = 0.0125) < (𝛼 = 0.05)\n",
    "\n",
    "> Jadi nilai rata-rata daerah ***lebih dari 4700***"
   ]
  },
  {
   "cell_type": "markdown",
   "id": "armed-german",
   "metadata": {},
   "source": [
    "## **b. Nilai Rata-rata Sumbu Utama tidak sama dengan 116?**\n",
    "Kolom *SumbuUtama* pada data\n",
    "> n = 500\n",
    "\n",
    "> s = 18.282626\n",
    "\n",
    "> x̅ = 116.045171"
   ]
  },
  {
   "cell_type": "code",
   "execution_count": 60,
   "id": "ambient-friend",
   "metadata": {},
   "outputs": [
    {
     "data": {
      "image/png": "[encoded data removed]",
      "text/plain": [
       "<Figure size 432x288 with 1 Axes>"
      ]
     },
     "metadata": {},
     "output_type": "display_data"
    }
   ],
   "source": [
    "# Boxplot Kolom SumbuUtama\n",
    "sns.boxplot(x = df[\"SumbuUtama\"],palette=\"Set3\")\n",
    "plt.show()"
   ]
  },
  {
   "cell_type": "markdown",
   "id": "naked-context",
   "metadata": {},
   "source": [
    "**Hipotesis nol**          \n",
    "\n",
    "> H0: 𝝻 = 116\n",
    "\n",
    "**Hipotesis Alternatif** \n",
    "\n",
    "> H1: 𝝻 ≠ 116 ( two sided ) sehingga menggunakan *two-tailed test*\n",
    "\n",
    "**Tingkat signifikan**\n",
    "\n",
    "> 𝛼 = 0.05\n",
    "\n",
    "> 𝛼/2 = 0.025\n",
    "\n",
    "**Daerah Kritis** \n",
    "\n",
    "> t < -1.96 dan t > 1.96, diperoleh dari P(t < -1.96) = 0.025 dan P(t > 1.96) = 0.025\n",
    "\n",
    "**Uji Statistik yang sesuai**\n",
    "\n",
    "> t = (x̅ - 𝝻)/(s/√n)\n",
    "\n",
    "**Nilai Uji Statistik**\n",
    "\n",
    "> t = (116.045171 - 116) / (18.282626/√500)\n",
    "\n",
    "> t = 0.045171/0.817623\n",
    "\n",
    "> t = 0.055246\n",
    "\n",
    "**Keputusan**\n",
    "\n",
    "> **H0 tidak dapat ditolak** karena nilai uji = 0.055246 < 1.96 dan 0.055246 > -1.96 ( berada di daerah penerimaan)\n",
    "\n",
    "> Jadi nilai rata-rata SumbuUtama **sama dengan 116**."
   ]
  },
  {
   "cell_type": "markdown",
   "id": "hazardous-theory",
   "metadata": {},
   "source": [
    "## **c. Nilai Rata-rata 20 baris pertama kolom Sumbu Kecil bukan 50?**\n",
    "**Decriptive statistics** dari kolom **SumbuKecil**\n",
    "> N = 500\n",
    "\n",
    "> 𝝻 = 53.715246\n",
    "\n",
    "> 𝜎 = 4.071075\n",
    "\n",
    "**Decriptive statistics** dari 20 baris pertama kolom **SumbuKecil**\n",
    "> n = 20\n",
    "\n",
    "> x̅ = 54.887276\n",
    "\n",
    "> s = 3.373879"
   ]
  },
  {
   "cell_type": "code",
   "execution_count": 61,
   "id": "educational-provision",
   "metadata": {},
   "outputs": [
    {
     "data": {
      "image/png": "[encoded data removed]",
      "text/plain": [
       "<Figure size 432x288 with 1 Axes>"
      ]
     },
     "metadata": {},
     "output_type": "display_data"
    }
   ],
   "source": [
    "# Boxplot Kolom SumbuKecil\n",
    "sns.boxplot(x=df[\"SumbuKecil\"],palette=\"Set3\")\n",
    "plt.show()"
   ]
  },
  {
   "cell_type": "code",
   "execution_count": 62,
   "id": "medieval-quarter",
   "metadata": {},
   "outputs": [
    {
     "data": {
      "image/png": "[encoded data removed]",
      "text/plain": [
       "<Figure size 432x288 with 1 Axes>"
      ]
     },
     "metadata": {},
     "output_type": "display_data"
    }
   ],
   "source": [
    "# Boxplot dari 20 baris pertama kolom SumbuKecil\n",
    "data = df[\"SumbuKecil\"][:20]\n",
    "sns.boxplot(x=data,palette=\"Set3\")\n",
    "plt.show()"
   ]
  },
  {
   "cell_type": "markdown",
   "id": "incoming-kinase",
   "metadata": {},
   "source": [
    "**Hipotesis nol**          \n",
    "\n",
    "> H0: 𝝻 = 50\n",
    "\n",
    "**Hipotesis Alternatif** \n",
    "\n",
    "> H1: 𝝻 ≠ 50 ( two sided ) sehingga menggunakan *two-tailed test*\n",
    "\n",
    "**Tingkat signifikan**\n",
    "\n",
    "> 𝛼 = 0.05\n",
    "\n",
    "> 𝛼/2 = 0.025\n",
    "\n",
    "**Daerah Kritis** \n",
    "\n",
    "> z < -1.96 dan z > 1.96, diperoleh dari P( Z < -1.96) = 0.025 dan P( Z > 1.96) = 0.025\n",
    "\n",
    "**Uji Statistik yang sesuai**\n",
    "\n",
    "> Teorema Central Limit\n",
    "\n",
    "> z = (x̅ - 𝝻)/(𝜎/√n)\n",
    "\n",
    "**Nilai Uji Statistik**\n",
    "\n",
    "> z = (54.887276 - 50) / (4.071075/√20)\n",
    "\n",
    "> z = 4.887276/0.910320\n",
    "\n",
    "> z = 5.3687\n",
    "\n",
    "**Keputusan**\n",
    "\n",
    "> **Tolak H0** karena nilai uji = 5.3687 > 1.96 ( Berada di daerah kritis )\n",
    "\n",
    "> Jadi nilai rata-rata 20 baris pertama pada kolom SumbuKecil **bukan 50**."
   ]
  },
  {
   "cell_type": "markdown",
   "id": "aerial-request",
   "metadata": {},
   "source": [
    "## **d. Proporsi nilai Diameter yang lebih dari 85, adalah tidak sama dengan 15% ?**\n",
    "**Decriptive statistics** dari kolom Diameter\n",
    "> N = 500\n",
    "\n",
    "> 𝝻  = 77.771158\n",
    "\n",
    "> 𝜎 = 8.056867\n",
    "\n",
    "**Decriptive statistics** dari diameter yang lebih dari 85\n",
    "> n = 97\n",
    "\n",
    "> x̅ = 89.17190935680412\n",
    "\n",
    "> s = 10.239913750555097"
   ]
  },
  {
   "cell_type": "code",
   "execution_count": 63,
   "id": "radio-going",
   "metadata": {},
   "outputs": [
    {
     "data": {
      "image/png": "[encoded data removed]",
      "text/plain": [
       "<Figure size 432x288 with 1 Axes>"
      ]
     },
     "metadata": {},
     "output_type": "display_data"
    }
   ],
   "source": [
    "# Boxplot Kolom Diameter\n",
    "sns.boxplot(x=df[\"Diameter\"],palette=\"Set3\")\n",
    "plt.show()"
   ]
  },
  {
   "cell_type": "code",
   "execution_count": 64,
   "id": "incorporated-think",
   "metadata": {},
   "outputs": [
    {
     "data": {
      "image/png": "[encoded data removed]",
      "text/plain": [
       "<Figure size 432x288 with 1 Axes>"
      ]
     },
     "metadata": {},
     "output_type": "display_data"
    }
   ],
   "source": [
    "# Boxplot dari diameter yang lebih dari 85\n",
    "dData = []\n",
    "for i in range(len(df[\"Diameter\"])):\n",
    "    if(df[\"Diameter\"][i] > 85):\n",
    "        dData.append(df[\"Diameter\"][i])\n",
    "sns.boxplot(x=dData,palette=\"Set3\")\n",
    "plt.show()"
   ]
  },
  {
   "cell_type": "markdown",
   "id": "fifteen-moscow",
   "metadata": {},
   "source": [
    "**Hipotesis nol**          \n",
    "\n",
    "> H0: p = 0.15\n",
    "\n",
    "**Hipotesis Alternatif** \n",
    "\n",
    "> H1: 𝝻 ≠ 0.15 ( two sided ) sehingga menggunakan *two-tailed test*\n",
    "\n",
    "**Tingkat signifikan**\n",
    "\n",
    "> 𝛼 = 0.05\n",
    "\n",
    "> 𝛼/2 = 0.025\n",
    "\n",
    "**Daerah Kritis** \n",
    "\n",
    "> z < -1.96 dan z > 1.96, diperoleh dari P( Z < -1.96) = 0.025 dan P( Z > 1.96) = 0.025\n",
    "\n",
    "**Uji Statistik yang sesuai**\n",
    "\n",
    "> Binomial didekati normal (karena n nya besar yaitu 97)\n",
    "\n",
    "> z = (x-np0)/(√(np0q0)) = (p̂ - p0)/(p0q0/(√n))\n",
    "\n",
    "**Nilai Uji Statistik**\n",
    "\n",
    "> dengan p̂ = n/N = 97/500 = 0.194, p0 = 0.15, q0 = 0.85, dan n = 97\n",
    "\n",
    "> z = (0.194 - 0.15)/(0.1275/√97)\n",
    "\n",
    "> z = 0.044/0.0129\n",
    "\n",
    "> z = 3.41\n",
    "\n",
    "**P-Value**\n",
    "> z = 3.41 -> P(Z > 3.41) = 1 - P(Z < 3.41) = **0.0003**\n",
    "\n",
    "**Keputusan**\n",
    "\n",
    "> **Tolak H0** karena P-Value = 0.0003 < 0.025 ( Berada di daerah kritis )\n",
    "\n",
    "> Jadi, proporsi nilai diameter yang lebih dari 85 **tidak sama dengan 15%**"
   ]
  },
  {
   "cell_type": "markdown",
   "id": "great-series",
   "metadata": {},
   "source": [
    "## **e. Proporsi nilai Keliling yang kurang dari 100, adalah kurang dari 5% ?**\n",
    "**Decriptive statistics** dari kolom Kililing\n",
    "> N = 500\n",
    "\n",
    "> 𝝻  = 281.479722\n",
    "\n",
    "> 𝜎 = 37.335402\n",
    "\n",
    "**Decriptive statistics** dari Keliling yang kurang dari 100\n",
    "> n = 0\n",
    "\n",
    "> x̅ = 0\n",
    "\n",
    "> s = 0"
   ]
  },
  {
   "cell_type": "code",
   "execution_count": 65,
   "id": "processed-retirement",
   "metadata": {},
   "outputs": [
    {
     "data": {
      "image/png": "[encoded data removed]",
      "text/plain": [
       "<Figure size 432x288 with 1 Axes>"
      ]
     },
     "metadata": {},
     "output_type": "display_data"
    }
   ],
   "source": [
    "# Boxplot Kolom Keliling\n",
    "sns.boxplot(x=df[\"Keliling\"],palette=\"Set3\")\n",
    "plt.show()"
   ]
  },
  {
   "cell_type": "code",
   "execution_count": 66,
   "id": "romance-official",
   "metadata": {},
   "outputs": [
    {
     "data": {
      "image/png": "[encoded data removed]",
      "text/plain": [
       "<Figure size 432x288 with 1 Axes>"
      ]
     },
     "metadata": {},
     "output_type": "display_data"
    }
   ],
   "source": [
    "# Boxplot dari Keliling yang kurang dari 100\n",
    "# Akan ditampilkan figure kosong karena tidak ada data yang memiliki keliling < 100\n",
    "\n",
    "dData = []\n",
    "for i in range(len(df[\"Keliling\"])):\n",
    "    if(df[\"Keliling\"][i] < 100):\n",
    "        dData.append(df[\"Keliling\"][i])\n",
    "sns.boxplot(x=dData,palette=\"Set3\")\n",
    "plt.show()"
   ]
  },
  {
   "cell_type": "markdown",
   "id": "narrow-talent",
   "metadata": {},
   "source": [
    "**Hipotesis nol**          \n",
    "\n",
    "> H0: p = 0.05\n",
    "\n",
    "**Hipotesis Alternatif** \n",
    "\n",
    "> H1: 𝝻 < 0.05 ( one sided ) sehingga menggunakan *one-tailed test*\n",
    "\n",
    "**Tingkat signifikan**\n",
    "\n",
    "> 𝛼 = 0.05\n",
    "\n",
    "**Daerah Kritis** \n",
    "\n",
    "> z < -1.645 diperoleh dari P (Z < -1.645) = 0.05\n",
    "\n",
    "**Uji Statistik yang sesuai**\n",
    "\n",
    "> Binomial\n",
    "\n",
    "> P-Value = P(X ≤ x, jika p = p0)\n",
    "\n",
    "**Nilai Uji Statistik dengan mencari P-Value**\n",
    "> P = P(X <= 0, p = 0.05)\n",
    "\n",
    "> P = b(0;500;0.05) = q^(500) = 0.95^(500)\n",
    "\n",
    "> P ≈ 0 \n",
    "\n",
    "**Keputusan**\n",
    "\n",
    "> **Tolak H0** karena P-Value = 0 < (𝛼 = 0.05) ( Berada di daerah kritis )\n",
    "\n",
    "> Jadi, proporsi nilai keliling yang kurang dari 100 adalah benar **kurang dari 5%**"
   ]
  },
  {
   "cell_type": "markdown",
   "id": "plastic-migration",
   "metadata": {},
   "source": [
    "# **Nomor 5**\n",
    "    Melakukan test hipotesis 2 sampel, dengan menuliskan 6 langkah testing dan menampilkan\n",
    "    juga boxplotnya untuk kolom/bagian yang bersesuaian.\n",
    "\n",
    "    a. Data kolom AreaBulatan dibagi 2 sama rata: bagian awal dan bagian akhir kolom. Benarkah rata-rata kedua bagian tersebut sama?\n",
    "    b. Data kolom Kadar Air dibagi 2 sama rata: bagian awal dan bagian akhir kolom. Benarkah rata-rata bagian awal lebih besar dari pada bagian akhir sebesar 0.2?\n",
    "    c. Rata-rata 20 baris pertama kolom Bulatan sama dengan 20 baris terakhirnya?\n",
    "    d. Proporsi nilai bagian awal Ransum yang lebih dari 2, adalah lebih besar daripada, proporsi nilai yang sama di bagian akhir Ransum?\n",
    "    e. Bagian awal kolom Diameter memiliki variansi yang sama dengan bagian akhirnya?\n",
    "\n",
    "**Enam Langkah Testing:**\n",
    "1. Tentukan Hipotesis nol (H0: θ = θ0), dimana θ bisa berupa μ, σ, p, atau data lain berdistribusi tertentu (normal, binomial, dsc.).\n",
    "2. Pilih hipotesis alternatif H1 salah dari dari θ > θ0, θ < θ0, atau θ ≠ θ0.\n",
    "3. Tentukan tingkat signifikan α.\n",
    "4. Tentukan uji statistik yang sesuai dan tentukan daerah kritis.\n",
    "5. Hitung nilai uji statistik dari data sample. Hitung p-value sesuai dengan uji statistik yang digunakan.\n",
    "6. Ambil keputusan dengan TOLAK H0 jika nilai uji terletak di daerah kritis atau dengan tessignifikan, TOLAK H0 jika p-value lebih kecil dibanding tingkat signifikansi α yang diinginkan."
   ]
  },
  {
   "cell_type": "markdown",
   "id": "imported-species",
   "metadata": {},
   "source": [
    "## **a. Data kolom AreaBulatan dibagi 2 sama rata: bagian awal dan bagian akhir kolom. Benarkah rata-rata kedua bagian tersebut sama?**\n",
    "Kolom *AreaBulatan* pada data\n",
    "> 𝝻 = 4937.048000\n",
    "\n",
    "> 𝜎 = 1011.696255\n",
    "\n",
    "> N = 500\n",
    "\n",
    "**Descriptive Statistics** dari data **bagian awal** kolom *AreaBulatan*\n",
    "> n1 = 250\n",
    "\n",
    "> s1 = 867.0254356176825\n",
    "\n",
    "> x̅1 = 5549.804\n",
    "\n",
    "**Descriptive Statistics** dari data **bagian akhir** kolom *AreaBulatan*\n",
    "> n2 = 250\n",
    "\n",
    "> s2 = 738.5664658199254\n",
    "\n",
    "> x̅2 = 4324.292"
   ]
  },
  {
   "cell_type": "code",
   "execution_count": 67,
   "id": "separate-cloud",
   "metadata": {},
   "outputs": [
    {
     "data": {
      "image/png": "[encoded data removed]",
      "text/plain": [
       "<Figure size 432x288 with 1 Axes>"
      ]
     },
     "metadata": {},
     "output_type": "display_data"
    }
   ],
   "source": [
    "# Boxplot Kolom AreaBulatan\n",
    "sns.boxplot(x=df[\"AreaBulatan\"],palette=\"Set3\")\n",
    "plt.show()"
   ]
  },
  {
   "cell_type": "code",
   "execution_count": 68,
   "id": "gentle-occurrence",
   "metadata": {},
   "outputs": [
    {
     "data": {
      "image/png": "[encoded data removed]",
      "text/plain": [
       "<Figure size 432x288 with 1 Axes>"
      ]
     },
     "metadata": {},
     "output_type": "display_data"
    }
   ],
   "source": [
    "# Boxplot data bagian awal kolom AreaBulatan\n",
    "data = df[\"AreaBulatan\"][:250]\n",
    "sns.boxplot(x=data,palette=\"Set3\")\n",
    "plt.show()"
   ]
  },
  {
   "cell_type": "code",
   "execution_count": 69,
   "id": "declared-tiffany",
   "metadata": {},
   "outputs": [
    {
     "data": {
      "image/png": "[encoded data removed]",
      "text/plain": [
       "<Figure size 432x288 with 1 Axes>"
      ]
     },
     "metadata": {},
     "output_type": "display_data"
    }
   ],
   "source": [
    "# Boxplot data bagian akhir kolom AreaBulatan\n",
    "data = df[\"AreaBulatan\"][250:]\n",
    "sns.boxplot(x=data,palette=\"Set3\")\n",
    "plt.show()"
   ]
  },
  {
   "cell_type": "markdown",
   "id": "final-essay",
   "metadata": {},
   "source": [
    "**Hipotesis nol**          \n",
    "\n",
    "> H0: x̅1 - x̅2 = 0\n",
    "\n",
    "**Hipotesis Alternatif** \n",
    "\n",
    "> H1: x̅1 - x̅2 ≠ 0 ( two sided ) sehingga menggunakan *two-tailed test*\n",
    "\n",
    "**Tingkat signifikan**\n",
    "\n",
    "> 𝛼 = 0.05\n",
    "\n",
    "> 𝛼/2 = 0.025\n",
    "\n",
    "**Daerah Kritis** \n",
    "\n",
    "> z < -1.96 dan z > 1.96, diperoleh dari P( Z < -1.96) = 0.025 dan P( Z > 1.96) = 0.025\n",
    "\n",
    "**Uji Statistik yang sesuai**\n",
    "\n",
    "> z = ((x̅1 - x̅2) - d0)/√(((𝜎1)^2/n1)+((𝜎2)^2/n2))\n",
    "\n",
    "> dengan d0 = 𝝻1 - 𝝻2\n",
    "\n",
    "**Nilai Uji Statistik**\n",
    "> z = ((5549.804 - 4324.292) - 0)/√(((867.0254356176825)^2/250)+((738.5664658199254)^2/250))\n",
    "\n",
    "> z = 1225.512/5188.854121767068\n",
    "\n",
    "> z = 0.2362\n",
    "\n",
    "**P-Value**\n",
    "> Z = 0.2362 -> P(Z > 0.2362) = 1 - P(Z < 0.2362) = 0.4052\n",
    "\n",
    "**Keputusan**\n",
    "\n",
    "> **H0 tidak dapat ditolak** karena -1.96 < (z = 0.2362) < 1.96 dan P-Value = 0.4052 > (𝛼 = 0.05) ( Berada di daerah penerimaan )\n",
    "\n",
    "> Jadi, rata-rata dari kedua bagian adalah **sama**"
   ]
  },
  {
   "cell_type": "markdown",
   "id": "communist-month",
   "metadata": {},
   "source": [
    "## **b. Data kolom Kadar Air dibagi 2 sama rata: bagian awal dan bagian akhir kolom. Benarkah rata-rata bagian awal lebih besar dari pada bagian akhir sebesar 0.2**\n",
    "Kolom *KadarAir* pada data\n",
    "> 𝝻 = 0.648372\n",
    "\n",
    "> 𝜎 = 0.094367\n",
    "\n",
    "> N = 500\n",
    "\n",
    "**Descriptive Statistics** dari data **bagian awal** kolom *KadarAir*\n",
    "> n1 = 250\n",
    "\n",
    "> s1 = 0.0950957414770849\n",
    "\n",
    "> x̅1 = 0.63574344072\n",
    "\n",
    "**Descriptive Statistics** dari data **bagian akhir** kolom *KadarAir*\n",
    "> n2 = 250\n",
    "\n",
    "> s2 = 0.09210123051767877\n",
    "\n",
    "> x̅2 = 0.660999903076\n"
   ]
  },
  {
   "cell_type": "code",
   "execution_count": 70,
   "id": "proprietary-competition",
   "metadata": {},
   "outputs": [
    {
     "data": {
      "image/png": "[encoded data removed]",
      "text/plain": [
       "<Figure size 432x288 with 1 Axes>"
      ]
     },
     "metadata": {},
     "output_type": "display_data"
    }
   ],
   "source": [
    "# Boxplot Kolom KadarAir\n",
    "sns.boxplot(x=df[\"KadarAir\"],palette=\"Set3\")\n",
    "plt.show()"
   ]
  },
  {
   "cell_type": "code",
   "execution_count": 71,
   "id": "adjacent-battle",
   "metadata": {},
   "outputs": [
    {
     "data": {
      "image/png": "[encoded data removed]",
      "text/plain": [
       "<Figure size 432x288 with 1 Axes>"
      ]
     },
     "metadata": {},
     "output_type": "display_data"
    }
   ],
   "source": [
    "# Boxplot data bagian awal kolom KadarAir\n",
    "data = df[\"KadarAir\"][:250]\n",
    "sns.boxplot(x=data,palette=\"Set3\")\n",
    "plt.show()"
   ]
  },
  {
   "cell_type": "code",
   "execution_count": 72,
   "id": "african-joyce",
   "metadata": {},
   "outputs": [
    {
     "data": {
      "image/png": "[encoded data removed]",
      "text/plain": [
       "<Figure size 432x288 with 1 Axes>"
      ]
     },
     "metadata": {},
     "output_type": "display_data"
    }
   ],
   "source": [
    "# Boxplot data bagian akhir kolom KadarAir\n",
    "data = df[\"KadarAir\"][250:]\n",
    "sns.boxplot(x=data,palette=\"Set3\")\n",
    "plt.show()"
   ]
  },
  {
   "cell_type": "markdown",
   "id": "successful-grove",
   "metadata": {},
   "source": [
    "**Hipotesis nol**          \n",
    "\n",
    "> H0: x̅1 - x̅2 = 0.2\n",
    "\n",
    "**Hipotesis Alternatif** \n",
    "\n",
    "> H1: x̅1 - x̅2 ≠ 0.2 ( two sided ) sehingga menggunakan *two-tailed test*\n",
    "\n",
    "**Tingkat signifikan**\n",
    "\n",
    "> 𝛼 = 0.05\n",
    "\n",
    "> 𝛼/2 = 0.025\n",
    "\n",
    "**Daerah Kritis** \n",
    "\n",
    "> z < -1.96 dan z > 1.96, diperoleh dari P( Z < -1.96) = 0.025 dan P( Z > 1.96) = 0.025\n",
    "\n",
    "**Uji Statistik yang sesuai**\n",
    "\n",
    "> z = ((x̅1 - x̅2) - d0)/√(((𝜎1)^2/n1)+((𝜎2)^2/n2))\n",
    "\n",
    "> dengan d0 = 𝝻1 - 𝝻2\n",
    "\n",
    "**Nilai Uji Statistik**\n",
    "> z = ((0.63574344072 - 0.660999903076) - 0.2)/√(((0.0950957414770849)^2/250)+((0.09210123051767877)^2/250))\n",
    "\n",
    "> z = -0.225256462356/0.008372774142408756\n",
    "\n",
    "> z = -26.90\n",
    "\n",
    "**Keputusan**\n",
    "\n",
    "> **Tolak H0** karena -26.90 < -1.96 ( berada pada daerah kritis )\n",
    "\n",
    "> Jadi, rata-rata bagian awal **tidak lebih besar 0.2** dari bagian akhir. "
   ]
  },
  {
   "cell_type": "markdown",
   "id": "closing-butler",
   "metadata": {},
   "source": [
    "## **c. Rata-rata 20 baris pertama kolom Bulatan sama dengan 20 baris terakhirnya?**\n",
    "Kolom *Bulatan* pada data\n",
    "> 𝝻 = 0.761737\n",
    "\n",
    "> 𝜎 = 0.061702\n",
    "\n",
    "> N = 500\n",
    "\n",
    "**Descriptive Statistics** dari data **20 baris pertama** kolom *Bulatan*\n",
    "> n1 = 250\n",
    "\n",
    "> s1 = 0.03038477583561707\n",
    "\n",
    "> x̅1 = 0.73753535525\n",
    "\n",
    "**Descriptive Statistics** dari data **20 baris terakhir** kolom *Bulatan*\n",
    "> n2 = 250\n",
    "\n",
    "> s2 = 0.025115057347653777\n",
    "\n",
    "> x̅2 = 0.767322437"
   ]
  },
  {
   "cell_type": "code",
   "execution_count": 73,
   "id": "floating-constraint",
   "metadata": {},
   "outputs": [
    {
     "data": {
      "image/png": "[encoded data removed]",
      "text/plain": [
       "<Figure size 432x288 with 1 Axes>"
      ]
     },
     "metadata": {},
     "output_type": "display_data"
    }
   ],
   "source": [
    "# Boxplot Kolom Bulatan\n",
    "sns.boxplot(x=df[\"Bulatan\"],palette=\"Set3\")\n",
    "plt.show()"
   ]
  },
  {
   "cell_type": "code",
   "execution_count": 74,
   "id": "industrial-magic",
   "metadata": {},
   "outputs": [
    {
     "data": {
      "image/png": "[encoded data removed]",
      "text/plain": [
       "<Figure size 432x288 with 1 Axes>"
      ]
     },
     "metadata": {},
     "output_type": "display_data"
    }
   ],
   "source": [
    "# Boxplot data 20 baris pertama kolom bulatan\n",
    "data = df[\"Bulatan\"][:20]\n",
    "sns.boxplot(x=data,palette=\"Set3\")\n",
    "plt.show()"
   ]
  },
  {
   "cell_type": "code",
   "execution_count": 75,
   "id": "applicable-primary",
   "metadata": {},
   "outputs": [
    {
     "data": {
      "image/png": "[encoded data removed]",
      "text/plain": [
       "<Figure size 432x288 with 1 Axes>"
      ]
     },
     "metadata": {},
     "output_type": "display_data"
    }
   ],
   "source": [
    "# Boxplot data 20 baris terakhir kolom bulatan\n",
    "data = df[\"Bulatan\"][480:500]\n",
    "sns.boxplot(x=data,palette=\"Set3\")\n",
    "plt.show()"
   ]
  },
  {
   "cell_type": "markdown",
   "id": "distributed-migration",
   "metadata": {},
   "source": [
    "**Hipotesis nol**          \n",
    "\n",
    "> H0: x̅1 - x̅2 = 0\n",
    "\n",
    "**Hipotesis Alternatif** \n",
    "\n",
    "> H1: x̅1 - x̅2 ≠ 0 ( two sided ) sehingga menggunakan *two-tailed test*\n",
    "\n",
    "**Tingkat signifikan**\n",
    "\n",
    "> 𝛼 = 0.05\n",
    "\n",
    "> 𝛼/2 = 0.025\n",
    "\n",
    "**Daerah Kritis** \n",
    "\n",
    "> z < -1.96 dan z > 1.96, diperoleh dari P( Z < -1.96) = 0.025 dan P( Z > 1.96) = 0.025\n",
    "\n",
    "**Uji Statistik yang sesuai**\n",
    "\n",
    "> z = ((x̅1 - x̅2) - d0)/√(((𝜎1)^2/n1)+((𝜎2)^2/n2))\n",
    "\n",
    "> dengan d0 = 𝝻1 - 𝝻2\n",
    "\n",
    "**Nilai Uji Statistik**\n",
    "> z = ((0.73753535525 - 0.767322437) - 0)/√(((0.03038477583561707)^2/250)+((0.025115057347653777)^2/250))\n",
    "\n",
    "> z = -0.02978708175/0.0024931912948320967\n",
    "\n",
    "> z = -11.947371151079686\n",
    "\n",
    "**Keputusan**\n",
    "\n",
    "> **Tolak H0** karena -11.95 < -1.96 ( berada pada daerah kritis )\n",
    "\n",
    "> Jadi, rata-rata 20 baris awal kolom Bulatan **tidak sama** dengan 20 baris terakhir kolom bulatan."
   ]
  },
  {
   "cell_type": "code",
   "execution_count": 3,
   "id": "arctic-upgrade",
   "metadata": {},
   "outputs": [],
   "source": [
    "array12 = df2[\"Kelas\"].to_numpy()"
   ]
  },
  {
   "cell_type": "markdown",
   "id": "vital-penetration",
   "metadata": {},
   "source": [
    "# **Nomor 6**\n",
    "Menentukan nilai korelasi (Pearson) antara kolom non-target terhadap kolom target dan menggambarkan scatter plotnya.\n",
    "\n",
    "**Langkah Pengerjaan (Instruksi Manual):**\n",
    "<ol>\n",
    "    <li>Menentukan rata-rata untuk kedua kolom yang akan dibandingkan</li>\n",
    "    <li>Untuk setiap data pada kedua kolom, dikurangi nilai rata-rata (untuk kolom terkait)</li>\n",
    "    <li><p>Seluruh nilai yang dihasilkan dikuadratkan dan dijumlahkan, lalu di-akarkuadratkan. Sehingga terbentuk:<br> SSkolom1 = √(∑(x - μ)^2)<br> SSkolom2 = √(∑(y - μ)^2)</p></li>\n",
    "    <li><p>Mengalikan nilai yang dihasilkan (mengacu pada nilai hasil langkah 2) pada kolom pertama dengan nilai yang dihasilkan pada kolom kedua. Sehingga terbentuk:<br> SP = ∑((x - μx)(y - μy))</p></li>\n",
    "    <li><p>Bagi SP dengan SSkolom1 dikali SSkolom2. Sehingga terbentuk:<br> Korelasi = SP / (SSkolom1 * SSkolom2)</p></li>\n",
    "</ol>\n",
    "\n",
    "**Contoh Kolom Daerah terhadap Kolom Kelas:**\n",
    "<ul>\n",
    "    <li>MeankolomDaerah = 4801.246</li>\n",
    "    <li>MeankolomKelas = 1.502</li>\n",
    "    <li>SSkolomDaerah = 22034.40620352634</li>\n",
    "    <li>SSkolomKelas = 11.18025044442201</li>\n",
    "    <li>SP = -148486.74599999993</li>\n",
    "    <li>Korelasi = -0.6027466517416693</li>\n",
    "</ul>"
   ]
  },
  {
   "cell_type": "markdown",
   "id": "south-average",
   "metadata": {},
   "source": [
    "### **Kolom Daerah terhadap Kolom Kelas**"
   ]
  },
  {
   "cell_type": "code",
   "execution_count": 8,
   "id": "flush-dayton",
   "metadata": {},
   "outputs": [
    {
     "name": "stdout",
     "output_type": "stream",
     "text": [
      "-0.6027466517416662\n"
     ]
    },
    {
     "data": {
      "text/plain": [
       "<AxesSubplot:xlabel='Daerah', ylabel='Kelas'>"
      ]
     },
     "execution_count": 8,
     "metadata": {},
     "output_type": "execute_result"
    },
    {
     "data": {
      "image/png": "[encoded data removed]",
      "text/plain": [
       "<Figure size 432x288 with 1 Axes>"
      ]
     },
     "metadata": {
      "needs_background": "light"
     },
     "output_type": "display_data"
    }
   ],
   "source": [
    "array2 = df[\"Daerah\"].to_numpy()\n",
    "\n",
    "corr_val = np.corrcoef(array2, array12)\n",
    "\n",
    "print(corr_val[0][1])\n",
    "\n",
    "df2.plot.scatter(\"Daerah\",\"Kelas\")"
   ]
  },
  {
   "cell_type": "markdown",
   "id": "rolled-basics",
   "metadata": {},
   "source": [
    "Nilai korelasi negatif, maka kolom Daerah berbanding terbalik dengan kolom Kelas"
   ]
  },
  {
   "cell_type": "markdown",
   "id": "tight-psychology",
   "metadata": {},
   "source": [
    "### **Kolom SumbuUtama terhadap Kolom Kelas**"
   ]
  },
  {
   "cell_type": "code",
   "execution_count": 4,
   "id": "decent-retail",
   "metadata": {},
   "outputs": [
    {
     "name": "stdout",
     "output_type": "stream",
     "text": [
      "-0.7130906104204593\n"
     ]
    },
    {
     "data": {
      "text/plain": [
       "<AxesSubplot:xlabel='SumbuUtama', ylabel='Kelas'>"
      ]
     },
     "execution_count": 4,
     "metadata": {},
     "output_type": "execute_result"
    },
    {
     "data": {
      "image/png": "[encoded data removed]",
      "text/plain": [
       "<Figure size 432x288 with 1 Axes>"
      ]
     },
     "metadata": {
      "needs_background": "light"
     },
     "output_type": "display_data"
    }
   ],
   "source": [
    "array3 = df[\"SumbuUtama\"].to_numpy()\n",
    "\n",
    "corr_val = np.corrcoef(array3, array12)\n",
    "\n",
    "print(corr_val[0][1])\n",
    "\n",
    "df2.plot.scatter(\"SumbuUtama\",\"Kelas\")"
   ]
  },
  {
   "cell_type": "markdown",
   "id": "satisfactory-jurisdiction",
   "metadata": {},
   "source": [
    "Nilai korelasi negatif, maka kolom SumbuUtama berbanding terbalik dengan kolom Kelas"
   ]
  },
  {
   "cell_type": "markdown",
   "id": "elder-maple",
   "metadata": {},
   "source": [
    "### **Kolom SumbuKecil terhadap Kolom Kelas**"
   ]
  },
  {
   "cell_type": "code",
   "execution_count": 7,
   "id": "surface-camping",
   "metadata": {},
   "outputs": [
    {
     "name": "stdout",
     "output_type": "stream",
     "text": [
      "-0.15297517335535027\n"
     ]
    },
    {
     "data": {
      "text/plain": [
       "<AxesSubplot:xlabel='SumbuKecil', ylabel='Kelas'>"
      ]
     },
     "execution_count": 7,
     "metadata": {},
     "output_type": "execute_result"
    },
    {
     "data": {
      "image/png": "[encoded data removed]",
      "text/plain": [
       "<Figure size 432x288 with 1 Axes>"
      ]
     },
     "metadata": {
      "needs_background": "light"
     },
     "output_type": "display_data"
    }
   ],
   "source": [
    "array4 = df[\"SumbuKecil\"].to_numpy()\n",
    "\n",
    "corr_val = np.corrcoef(array4, array12)\n",
    "\n",
    "print(corr_val[0][1])\n",
    "\n",
    "df2.plot.scatter(\"SumbuKecil\",\"Kelas\")"
   ]
  },
  {
   "cell_type": "markdown",
   "id": "passive-narrow",
   "metadata": {},
   "source": [
    "Nilai korelasi negatif, maka kolom SumbuKecil berbanding terbalik dengan kolom Kelas"
   ]
  },
  {
   "cell_type": "markdown",
   "id": "cloudy-inspiration",
   "metadata": {},
   "source": [
    "### **Kolom Keunikan terhadap Kolom Kelas**"
   ]
  },
  {
   "cell_type": "code",
   "execution_count": 8,
   "id": "incredible-sodium",
   "metadata": {},
   "outputs": [
    {
     "name": "stdout",
     "output_type": "stream",
     "text": [
      "-0.7304563686511922\n"
     ]
    },
    {
     "data": {
      "text/plain": [
       "<AxesSubplot:xlabel='Keunikan', ylabel='Kelas'>"
      ]
     },
     "execution_count": 8,
     "metadata": {},
     "output_type": "execute_result"
    },
    {
     "data": {
      "image/png": "[encoded data removed]",
      "text/plain": [
       "<Figure size 432x288 with 1 Axes>"
      ]
     },
     "metadata": {
      "needs_background": "light"
     },
     "output_type": "display_data"
    }
   ],
   "source": [
    "array5 = df[\"Keunikan\"].to_numpy()\n",
    "\n",
    "corr_val = np.corrcoef(array5, array12)\n",
    "\n",
    "print(corr_val[0][1])\n",
    "\n",
    "df2.plot.scatter(\"Keunikan\",\"Kelas\")"
   ]
  },
  {
   "cell_type": "markdown",
   "id": "dressed-michigan",
   "metadata": {},
   "source": [
    "Nilai korelasi negatif, maka kolom Keunikan berbanding terbalik dengan kolom Kelas"
   ]
  },
  {
   "cell_type": "markdown",
   "id": "genetic-jones",
   "metadata": {},
   "source": [
    "### **Kolom AreaBulatan terhadap Kolom Kelas**"
   ]
  },
  {
   "cell_type": "code",
   "execution_count": 9,
   "id": "professional-beads",
   "metadata": {},
   "outputs": [
    {
     "name": "stdout",
     "output_type": "stream",
     "text": [
      "-0.6073125434153751\n"
     ]
    },
    {
     "data": {
      "text/plain": [
       "<AxesSubplot:xlabel='AreaBulatan', ylabel='Kelas'>"
      ]
     },
     "execution_count": 9,
     "metadata": {},
     "output_type": "execute_result"
    },
    {
     "data": {
      "image/png": "[encoded data removed]",
      "text/plain": [
       "<Figure size 432x288 with 1 Axes>"
      ]
     },
     "metadata": {
      "needs_background": "light"
     },
     "output_type": "display_data"
    }
   ],
   "source": [
    "array6 = df[\"AreaBulatan\"].to_numpy()\n",
    "\n",
    "corr_val = np.corrcoef(array6, array12)\n",
    "\n",
    "print(corr_val[0][1])\n",
    "\n",
    "df2.plot.scatter(\"AreaBulatan\",\"Kelas\")"
   ]
  },
  {
   "cell_type": "markdown",
   "id": "circular-ready",
   "metadata": {},
   "source": [
    "Nilai korelasi negatif, maka kolom AreaBulatan berbanding terbalik dengan kolom Kelas"
   ]
  },
  {
   "cell_type": "markdown",
   "id": "decreased-fairy",
   "metadata": {},
   "source": [
    "### **Kolom Diameter terhadap Kolom Kelas**"
   ]
  },
  {
   "cell_type": "code",
   "execution_count": 10,
   "id": "valued-boxing",
   "metadata": {},
   "outputs": [
    {
     "name": "stdout",
     "output_type": "stream",
     "text": [
      "-0.6025356896618813\n"
     ]
    },
    {
     "data": {
      "text/plain": [
       "<AxesSubplot:xlabel='Diameter', ylabel='Kelas'>"
      ]
     },
     "execution_count": 10,
     "metadata": {},
     "output_type": "execute_result"
    },
    {
     "data": {
      "image/png": "[encoded data removed]",
      "text/plain": [
       "<Figure size 432x288 with 1 Axes>"
      ]
     },
     "metadata": {
      "needs_background": "light"
     },
     "output_type": "display_data"
    }
   ],
   "source": [
    "array7 = df[\"Diameter\"].to_numpy()\n",
    "\n",
    "corr_val = np.corrcoef(array7, array12)\n",
    "\n",
    "print(corr_val[0][1])\n",
    "\n",
    "df2.plot.scatter(\"Diameter\",\"Kelas\")"
   ]
  },
  {
   "cell_type": "markdown",
   "id": "smoking-development",
   "metadata": {},
   "source": [
    "Nilai korelasi negatif, maka kolom Diameter berbanding terbalik dengan kolom Kelas"
   ]
  },
  {
   "cell_type": "markdown",
   "id": "rapid-senior",
   "metadata": {},
   "source": [
    "### **Kolom KadarAir terhadap Kolom Kelas**"
   ]
  },
  {
   "cell_type": "code",
   "execution_count": 11,
   "id": "indonesian-credits",
   "metadata": {},
   "outputs": [
    {
     "name": "stdout",
     "output_type": "stream",
     "text": [
      "0.13434422605727642\n"
     ]
    },
    {
     "data": {
      "text/plain": [
       "<AxesSubplot:xlabel='KadarAir', ylabel='Kelas'>"
      ]
     },
     "execution_count": 11,
     "metadata": {},
     "output_type": "execute_result"
    },
    {
     "data": {
      "image/png": "[encoded data removed]",
      "text/plain": [
       "<Figure size 432x288 with 1 Axes>"
      ]
     },
     "metadata": {
      "needs_background": "light"
     },
     "output_type": "display_data"
    }
   ],
   "source": [
    "array8 = df[\"KadarAir\"].to_numpy()\n",
    "\n",
    "corr_val = np.corrcoef(array8, array12)\n",
    "\n",
    "print(corr_val[0][1])\n",
    "\n",
    "df2.plot.scatter(\"KadarAir\",\"Kelas\")"
   ]
  },
  {
   "cell_type": "markdown",
   "id": "selected-solution",
   "metadata": {},
   "source": [
    "Nilai korelasi positif, maka kolom KadarAir berbanding lurus dengan kolom Kelas"
   ]
  },
  {
   "cell_type": "markdown",
   "id": "external-yukon",
   "metadata": {},
   "source": [
    "### **Kolom Keliling terhadap Kolom Kelas**"
   ]
  },
  {
   "cell_type": "code",
   "execution_count": 12,
   "id": "dominant-limitation",
   "metadata": {},
   "outputs": [
    {
     "name": "stdout",
     "output_type": "stream",
     "text": [
      "-0.6348607454756858\n"
     ]
    },
    {
     "data": {
      "text/plain": [
       "<AxesSubplot:xlabel='Keliling', ylabel='Kelas'>"
      ]
     },
     "execution_count": 12,
     "metadata": {},
     "output_type": "execute_result"
    },
    {
     "data": {
      "image/png": "[encoded data removed]",
      "text/plain": [
       "<Figure size 432x288 with 1 Axes>"
      ]
     },
     "metadata": {
      "needs_background": "light"
     },
     "output_type": "display_data"
    }
   ],
   "source": [
    "array9 = df[\"Keliling\"].to_numpy()\n",
    "\n",
    "corr_val = np.corrcoef(array9, array12)\n",
    "\n",
    "print(corr_val[0][1])\n",
    "\n",
    "df2.plot.scatter(\"Keliling\",\"Kelas\")"
   ]
  },
  {
   "cell_type": "markdown",
   "id": "military-communist",
   "metadata": {},
   "source": [
    "Nilai korelasi negatif, maka kolom Keliling berbanding terbalik dengan kolom Kelas"
   ]
  },
  {
   "cell_type": "markdown",
   "id": "accessory-wholesale",
   "metadata": {},
   "source": [
    "### **Kolom Bulatan terhadap Kolom Kelas**"
   ]
  },
  {
   "cell_type": "code",
   "execution_count": 13,
   "id": "banner-bradford",
   "metadata": {},
   "outputs": [
    {
     "name": "stdout",
     "output_type": "stream",
     "text": [
      "0.5450045317240076\n"
     ]
    },
    {
     "data": {
      "text/plain": [
       "<AxesSubplot:xlabel='Bulatan', ylabel='Kelas'>"
      ]
     },
     "execution_count": 13,
     "metadata": {},
     "output_type": "execute_result"
    },
    {
     "data": {
      "image/png": "[encoded data removed]",
      "text/plain": [
       "<Figure size 432x288 with 1 Axes>"
      ]
     },
     "metadata": {
      "needs_background": "light"
     },
     "output_type": "display_data"
    }
   ],
   "source": [
    "array10 = df[\"Bulatan\"].to_numpy()\n",
    "\n",
    "corr_val = np.corrcoef(array10, array12)\n",
    "\n",
    "print(corr_val[0][1])\n",
    "\n",
    "df2.plot.scatter(\"Bulatan\",\"Kelas\")"
   ]
  },
  {
   "cell_type": "markdown",
   "id": "assisted-causing",
   "metadata": {},
   "source": [
    "Nilai korelasi positif, maka kolom Bulatan berbanding lurus dengan kolom Kelas"
   ]
  },
  {
   "cell_type": "markdown",
   "id": "joint-pearl",
   "metadata": {},
   "source": [
    "### **Kolom Ransum terhadap Kolom Kelas**"
   ]
  },
  {
   "cell_type": "code",
   "execution_count": 14,
   "id": "robust-deputy",
   "metadata": {},
   "outputs": [
    {
     "name": "stdout",
     "output_type": "stream",
     "text": [
      "-0.8399038681287493\n"
     ]
    },
    {
     "data": {
      "text/plain": [
       "<AxesSubplot:xlabel='Ransum', ylabel='Kelas'>"
      ]
     },
     "execution_count": 14,
     "metadata": {},
     "output_type": "execute_result"
    },
    {
     "data": {
      "image/png": "[encoded data removed]",
      "text/plain": [
       "<Figure size 432x288 with 1 Axes>"
      ]
     },
     "metadata": {
      "needs_background": "light"
     },
     "output_type": "display_data"
    }
   ],
   "source": [
    "array11 = df[\"Ransum\"].to_numpy()\n",
    "\n",
    "corr_val = np.corrcoef(array11, array12)\n",
    "\n",
    "print(corr_val[0][1])\n",
    "\n",
    "df2.plot.scatter(\"Ransum\",\"Kelas\")"
   ]
  },
  {
   "cell_type": "markdown",
   "id": "prospective-recipient",
   "metadata": {},
   "source": [
    "Nilai korelasi negatif, maka kolom Ransum berbanding terbalik dengan kolom Kelas"
   ]
  }
 ],
 "metadata": {
  "kernelspec": {
   "display_name": "Python 3",
   "language": "python",
   "name": "python3"
  },
  "language_info": {
   "codemirror_mode": {
    "name": "ipython",
    "version": 3
   },
   "file_extension": ".py",
   "mimetype": "text/x-python",
   "name": "python",
   "nbconvert_exporter": "python",
   "pygments_lexer": "ipython3",
   "version": "3.9.1"
  }
 },
 "nbformat": 4,
 "nbformat_minor": 5
}
