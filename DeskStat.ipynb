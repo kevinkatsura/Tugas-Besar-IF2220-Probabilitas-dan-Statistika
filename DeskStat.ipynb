{
 "cells": [
  {
   "cell_type": "code",
   "execution_count": 123,
   "id": "oriental-movement",
   "metadata": {},
   "outputs": [],
   "source": [
    "import pandas as pd\n",
    "import numpy as np\n",
    "\n",
    "df = pd.read_csv('Gandum.csv', header = None)\n",
    "\n",
    "df.columns = [\"Id\", \"Daerah\", \"SumbuUtama\", \"SumbuKecil\", \"Keunikan\", \"AreaBulatan\", \"Diameter\", \"KadarAir\", \"Keliling\", \"Bulatan\", \"Ransum\", \"Kelas\"]\n",
    "\n",
    "df = df.drop([\"Id\",\"Kelas\"], axis=1)"
   ]
  },
  {
   "cell_type": "code",
   "execution_count": 154,
   "id": "legitimate-strategy",
   "metadata": {},
   "outputs": [
    {
     "data": {
      "text/plain": [
       "Daerah         4801.246000\n",
       "SumbuUtama      116.045171\n",
       "SumbuKecil       53.715246\n",
       "Keunikan          0.878764\n",
       "AreaBulatan    4937.048000\n",
       "Diameter         77.771158\n",
       "KadarAir          0.648372\n",
       "Keliling        281.479722\n",
       "Bulatan           0.761737\n",
       "Ransum            2.150915\n",
       "dtype: float64"
      ]
     },
     "execution_count": 154,
     "metadata": {},
     "output_type": "execute_result"
    }
   ],
   "source": [
    "### Mean\n",
    "df.mean()"
   ]
  },
  {
   "cell_type": "code",
   "execution_count": 148,
   "id": "perfect-contrast",
   "metadata": {},
   "outputs": [
    {
     "name": "stdout",
     "output_type": "stream",
     "text": [
      " Daerah  SumbuUtama  SumbuKecil  Keunikan  AreaBulatan  Diameter  KadarAir  Keliling  Bulatan  Ransum\n",
      " 3992.0         NaN         NaN       NaN       3802.0 71.293564  0.735849       NaN      NaN     NaN\n",
      " 4881.0         NaN         NaN       NaN       4913.0 78.833256  0.824405       NaN      NaN     NaN\n",
      " 5642.0         NaN         NaN       NaN          NaN 84.756224       NaN       NaN      NaN     NaN\n",
      " 6083.0         NaN         NaN       NaN          NaN 88.006342       NaN       NaN      NaN     NaN\n"
     ]
    }
   ],
   "source": [
    "### Modus\n",
    "df_mode = df.mode()\n",
    "\n",
    "for column in df_mode:\n",
    "    if (df_mode[column].isnull().sum() == 0):\n",
    "        df_mode[column].loc[:] = np.nan\n",
    "        \n",
    "print(df_mode.mode().to_string(index = False))"
   ]
  },
  {
   "cell_type": "code",
   "execution_count": 155,
   "id": "other-cabinet",
   "metadata": {},
   "outputs": [
    {
     "data": {
      "text/plain": [
       "Daerah          986.395491\n",
       "SumbuUtama       18.282626\n",
       "SumbuKecil        4.071075\n",
       "Keunikan          0.036586\n",
       "AreaBulatan    1011.696255\n",
       "Diameter          8.056867\n",
       "KadarAir          0.094367\n",
       "Keliling         37.335402\n",
       "Bulatan           0.061702\n",
       "Ransum            0.249767\n",
       "dtype: float64"
      ]
     },
     "execution_count": 155,
     "metadata": {},
     "output_type": "execute_result"
    }
   ],
   "source": [
    "### Standar Deviasi\n",
    "df.std()"
   ]
  },
  {
   "cell_type": "code",
   "execution_count": 156,
   "id": "challenging-franchise",
   "metadata": {},
   "outputs": [
    {
     "data": {
      "text/plain": [
       "Daerah         9.729761e+05\n",
       "SumbuUtama     3.342544e+02\n",
       "SumbuKecil     1.657365e+01\n",
       "Keunikan       1.338528e-03\n",
       "AreaBulatan    1.023529e+06\n",
       "Diameter       6.491311e+01\n",
       "KadarAir       8.905149e-03\n",
       "Keliling       1.393932e+03\n",
       "Bulatan        3.807194e-03\n",
       "Ransum         6.238350e-02\n",
       "dtype: float64"
      ]
     },
     "execution_count": 156,
     "metadata": {},
     "output_type": "execute_result"
    }
   ],
   "source": [
    "### Variansi\n",
    "df.var()###.apply(lambda x: '%.4f' % x) <- Buat hapus bentuk scientific"
   ]
  },
  {
   "cell_type": "code",
   "execution_count": 150,
   "id": "vietnamese-scale",
   "metadata": {},
   "outputs": [
    {
     "name": "stdout",
     "output_type": "stream",
     "text": [
      " Daerah  SumbuUtama  SumbuKecil  Keunikan  AreaBulatan  Diameter  KadarAir  Keliling  Bulatan   Ransum\n",
      "   4931  153.795469   29.071182  0.194085         5141 40.747172  0.468972   291.822 0.730158 1.024013\n"
     ]
    }
   ],
   "source": [
    "### Range\n",
    "new_data = {}\n",
    "\n",
    "for column in df:\n",
    "    new_data[column] = df[column].max() - df[column].min()\n",
    "    \n",
    "new_df = pd.DataFrame(new_data, index = [' '])\n",
    "\n",
    "print(new_df.to_string(index = False))"
   ]
  },
  {
   "cell_type": "code",
   "execution_count": 159,
   "id": "failing-obligation",
   "metadata": {},
   "outputs": [
    {
     "data": {
      "text/plain": [
       "Daerah         2522.000000\n",
       "SumbuUtama       74.133114\n",
       "SumbuKecil       39.906517\n",
       "Keunikan          0.719916\n",
       "AreaBulatan    2579.000000\n",
       "Diameter         56.666658\n",
       "KadarAir          0.409927\n",
       "Keliling        197.015000\n",
       "Bulatan           0.174590\n",
       "Ransum            1.440796\n",
       "dtype: float64"
      ]
     },
     "execution_count": 159,
     "metadata": {},
     "output_type": "execute_result"
    }
   ],
   "source": [
    "### Min\n",
    "df.min()"
   ]
  },
  {
   "cell_type": "code",
   "execution_count": 160,
   "id": "legislative-provider",
   "metadata": {},
   "outputs": [
    {
     "data": {
      "text/plain": [
       "Daerah         7453.000000\n",
       "SumbuUtama      227.928583\n",
       "SumbuKecil       68.977700\n",
       "Keunikan          0.914001\n",
       "AreaBulatan    7720.000000\n",
       "Diameter         97.413830\n",
       "KadarAir          0.878899\n",
       "Keliling        488.837000\n",
       "Bulatan           0.904748\n",
       "Ransum            2.464809\n",
       "dtype: float64"
      ]
     },
     "execution_count": 160,
     "metadata": {},
     "output_type": "execute_result"
    }
   ],
   "source": [
    "### Max\n",
    "df.max()"
   ]
  },
  {
   "cell_type": "code",
   "execution_count": 73,
   "id": "superb-criticism",
   "metadata": {},
   "outputs": [
    {
     "data": {
      "text/plain": [
       "Daerah         4042.7500\n",
       "SumbuUtama      104.1161\n",
       "SumbuKecil       51.1936\n",
       "Keunikan          0.8637\n",
       "AreaBulatan    4170.2500\n",
       "Diameter         71.7453\n",
       "KadarAir          0.5726\n",
       "Keliling        255.8830\n",
       "Bulatan           0.7320\n",
       "Ransum            1.9839\n",
       "Name: 0.25, dtype: object"
      ]
     },
     "execution_count": 73,
     "metadata": {},
     "output_type": "execute_result"
    }
   ],
   "source": [
    "### Kuartil bawah\n",
    "df.quantile(.25).apply(lambda x: '%.4f' % x)"
   ]
  },
  {
   "cell_type": "code",
   "execution_count": 161,
   "id": "greatest-elimination",
   "metadata": {},
   "outputs": [
    {
     "data": {
      "text/plain": [
       "Daerah         4735.000000\n",
       "SumbuUtama      115.405140\n",
       "SumbuKecil       53.731199\n",
       "Keunikan          0.890045\n",
       "AreaBulatan    4857.000000\n",
       "Diameter         77.645277\n",
       "KadarAir          0.626117\n",
       "Keliling        280.045500\n",
       "Bulatan           0.761288\n",
       "Ransum            2.193599\n",
       "dtype: float64"
      ]
     },
     "execution_count": 161,
     "metadata": {},
     "output_type": "execute_result"
    }
   ],
   "source": [
    "### Median\n",
    "df.median()"
   ]
  },
  {
   "cell_type": "code",
   "execution_count": 162,
   "id": "closing-secretary",
   "metadata": {},
   "outputs": [
    {
     "data": {
      "text/plain": [
       "Daerah         5495.500000\n",
       "SumbuUtama      129.046792\n",
       "SumbuKecil       56.325158\n",
       "Keunikan          0.907578\n",
       "AreaBulatan    5654.250000\n",
       "Diameter         83.648598\n",
       "KadarAir          0.726633\n",
       "Keliling        306.062500\n",
       "Bulatan           0.796361\n",
       "Ransum            2.381612\n",
       "Name: 0.75, dtype: float64"
      ]
     },
     "execution_count": 162,
     "metadata": {},
     "output_type": "execute_result"
    }
   ],
   "source": [
    "### Kuartil atas\n",
    "df.quantile(.75)"
   ]
  },
  {
   "cell_type": "code",
   "execution_count": 153,
   "id": "invalid-mainstream",
   "metadata": {},
   "outputs": [
    {
     "name": "stdout",
     "output_type": "stream",
     "text": [
      " Daerah  SumbuUtama  SumbuKecil  Keunikan  AreaBulatan  Diameter  KadarAir  Keliling  Bulatan   Ransum\n",
      "1452.75   24.930694    5.131582  0.043902       1484.0  11.90329  0.154001   50.1795  0.06437 0.397673\n"
     ]
    }
   ],
   "source": [
    "### IQR\n",
    "new_data = {}\n",
    "\n",
    "for column in df:\n",
    "    new_data[column] = df[column].quantile(.75) - df[column].quantile(.25)\n",
    "    \n",
    "new_df = pd.DataFrame(new_data, index = [' '])\n",
    "\n",
    "print(new_df.to_string(index = False))"
   ]
  },
  {
   "cell_type": "code",
   "execution_count": 164,
   "id": "through-point",
   "metadata": {},
   "outputs": [
    {
     "data": {
      "text/plain": [
       "Daerah         0.238144\n",
       "SumbuUtama     0.761529\n",
       "SumbuKecil    -0.010828\n",
       "Keunikan      -1.623472\n",
       "AreaBulatan    0.257560\n",
       "Diameter       0.002725\n",
       "KadarAir       0.493661\n",
       "Keliling       0.733627\n",
       "Bulatan       -3.599237\n",
       "Ransum        -0.658188\n",
       "dtype: float64"
      ]
     },
     "execution_count": 164,
     "metadata": {},
     "output_type": "execute_result"
    }
   ],
   "source": [
    "### Skewness\n",
    "df.skew()"
   ]
  },
  {
   "cell_type": "code",
   "execution_count": 163,
   "id": "mysterious-bubble",
   "metadata": {},
   "outputs": [
    {
     "data": {
      "text/plain": [
       "Daerah         -0.434631\n",
       "SumbuUtama      4.330534\n",
       "SumbuKecil      0.475568\n",
       "Keunikan        2.917256\n",
       "AreaBulatan    -0.409685\n",
       "Diameter       -0.466455\n",
       "KadarAir       -0.740326\n",
       "Keliling        2.272685\n",
       "Bulatan        29.975096\n",
       "Ransum         -0.428656\n",
       "dtype: float64"
      ]
     },
     "execution_count": 163,
     "metadata": {},
     "output_type": "execute_result"
    }
   ],
   "source": [
    "### Kurtosis\n",
    "df.kurtosis()"
   ]
  },
  {
   "cell_type": "code",
   "execution_count": null,
   "id": "chronic-motor",
   "metadata": {},
   "outputs": [],
   "source": []
  }
 ],
 "metadata": {
  "kernelspec": {
   "display_name": "Python 3",
   "language": "python",
   "name": "python3"
  },
  "language_info": {
   "codemirror_mode": {
    "name": "ipython",
    "version": 3
   },
   "file_extension": ".py",
   "mimetype": "text/x-python",
   "name": "python",
   "nbconvert_exporter": "python",
   "pygments_lexer": "ipython3",
   "version": "3.9.1"
  }
 },
 "nbformat": 4,
 "nbformat_minor": 5
}
