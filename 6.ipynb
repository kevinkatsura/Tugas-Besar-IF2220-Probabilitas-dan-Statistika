{
 "cells": [
  {
   "cell_type": "code",
   "execution_count": 11,
   "id": "familiar-latino",
   "metadata": {},
   "outputs": [],
   "source": [
    "import pandas as pd\n",
    "import matplotlib.pyplot as plt\n",
    "\n",
    "df = pd.read_csv('Gandum.csv', header = None)\n",
    "\n",
    "df.columns = [\"Id\", \"Daerah\", \"SumbuUtama\", \"SumbuKecil\", \"Keunikan\", \"AreaBulatan\", \"Diameter\", \"KadarAir\", \"Keliling\", \"Bulatan\", \"Ransum\", \"Kelas\"]\n",
    "\n",
    "df = df.drop([\"Id\"], axis=1)\n",
    "\n",
    "array12 = df[\"Kelas\"].to_numpy()"
   ]
  },
  {
   "cell_type": "markdown",
   "id": "prerequisite-bracket",
   "metadata": {},
   "source": [
    "# **Nomor 6**\n",
    "Menentukan nilai korelasi (Pearson) antara kolom non-target terhadap kolom target dan menggambarkan scatter plotnya.\n",
    "\n",
    "## Langkah Pengerjaan (Instruksi Manual):\n",
    "1. Menentukan rata-rata untuk kedua kolom yang akan dibandingkan\n",
    "2. Untuk setiap data pada kedua kolom, dikurangi nilai rata-rata (untuk kolom terkait)\n",
    "3. Seluruh nilai yang dihasilkan dikuadratkan dan dijumlahkan, lalu di-akarkuadratkan. Sehingga terbentuk:<br>\n",
    "SSkolom1 = √(∑(x - μ)^2)\n",
    "SSkolom2 = √(∑(y - μ)^2)<br>\n",
    "4. Mengalikan nilai yang dihasilkan (mengacu pada nilai hasil langkah 2) pada kolom pertama dengan nilai yang dihasilkan pada kolom kedua. Sehingga terbentuk:<br>\n",
    "SP = ∑((x - μx)(y - μy))<br>\n",
    "5. Bagi SP dengan SSkolom1 dikali SSkolom2<br>\n",
    "Korelasi = SP / (SSkolom1 * SSkolom2)\n",
    "\n",
    "Contoh Kolom Daerah terhadap Kolom Kelas:\n",
    "* MeankolomDaerah = 4801.246\n",
    "* MeankolomKelas = 1.502\n",
    "* SSkolomDaerah = 22034.40620352634\n",
    "* SSkolomKelas = 11.18025044442201\n",
    "* SP = -148486.74599999993\n",
    "* Korelasi = -0.6027466517416693"
   ]
  },
  {
   "cell_type": "markdown",
   "id": "approximate-expense",
   "metadata": {},
   "source": [
    "# **Kolom Daerah terhadap Kolom Kelas**"
   ]
  },
  {
   "cell_type": "code",
   "execution_count": 78,
   "id": "indonesian-gardening",
   "metadata": {},
   "outputs": [
    {
     "name": "stdout",
     "output_type": "stream",
     "text": [
      "-0.6027466517416662\n"
     ]
    },
    {
     "data": {
      "text/plain": [
       "<AxesSubplot:xlabel='Daerah', ylabel='Kelas'>"
      ]
     },
     "execution_count": 78,
     "metadata": {},
     "output_type": "execute_result"
    },
    {
     "data": {
      "image/png": "[encoded data removed]",
      "text/plain": [
       "<Figure size 432x288 with 1 Axes>"
      ]
     },
     "metadata": {
      "needs_background": "light"
     },
     "output_type": "display_data"
    }
   ],
   "source": [
    "array2 = df[\"Daerah\"].to_numpy()\n",
    "\n",
    "corr_val = np.corrcoef(array2, array12)\n",
    "\n",
    "print(corr_val[0][1])\n",
    "\n",
    "df.plot.scatter(\"Daerah\",\"Kelas\")"
   ]
  },
  {
   "cell_type": "markdown",
   "id": "skilled-desktop",
   "metadata": {},
   "source": [
    "Nilai korelasi negatif, maka kolom Daerah berbanding terbalik dengan kolom Kelas"
   ]
  },
  {
   "cell_type": "markdown",
   "id": "bridal-bolivia",
   "metadata": {},
   "source": [
    "# **Kolom SumbuUtama terhadap Kolom Kelas**"
   ]
  },
  {
   "cell_type": "code",
   "execution_count": 68,
   "id": "ignored-economy",
   "metadata": {},
   "outputs": [
    {
     "name": "stdout",
     "output_type": "stream",
     "text": [
      "-0.7130906104204593\n"
     ]
    },
    {
     "data": {
      "text/plain": [
       "<AxesSubplot:xlabel='SumbuUtama', ylabel='Kelas'>"
      ]
     },
     "execution_count": 68,
     "metadata": {},
     "output_type": "execute_result"
    },
    {
     "data": {
      "image/png": "[encoded data removed]",
      "text/plain": [
       "<Figure size 432x288 with 1 Axes>"
      ]
     },
     "metadata": {
      "needs_background": "light"
     },
     "output_type": "display_data"
    }
   ],
   "source": [
    "array3 = df[\"SumbuUtama\"].to_numpy()\n",
    "\n",
    "corr_val = np.corrcoef(array3, array12)\n",
    "\n",
    "print(corr_val[0][1])\n",
    "\n",
    "df.plot.scatter(\"SumbuUtama\",\"Kelas\")"
   ]
  },
  {
   "cell_type": "markdown",
   "id": "affected-gathering",
   "metadata": {},
   "source": [
    "Nilai korelasi negatif, maka kolom SumbuUtama berbanding terbalik dengan kolom Kelas"
   ]
  },
  {
   "cell_type": "markdown",
   "id": "endless-finance",
   "metadata": {},
   "source": [
    "# **Kolom SumbuKecil terhadap Kolom Kelas**"
   ]
  },
  {
   "cell_type": "code",
   "execution_count": 69,
   "id": "hybrid-naples",
   "metadata": {},
   "outputs": [
    {
     "name": "stdout",
     "output_type": "stream",
     "text": [
      "-0.15297517335535027\n"
     ]
    },
    {
     "data": {
      "text/plain": [
       "<AxesSubplot:xlabel='SumbuKecil', ylabel='Kelas'>"
      ]
     },
     "execution_count": 69,
     "metadata": {},
     "output_type": "execute_result"
    },
    {
     "data": {
      "image/png": "[encoded data removed]",
      "text/plain": [
       "<Figure size 432x288 with 1 Axes>"
      ]
     },
     "metadata": {
      "needs_background": "light"
     },
     "output_type": "display_data"
    }
   ],
   "source": [
    "array4 = df[\"SumbuKecil\"].to_numpy()\n",
    "\n",
    "corr_val = np.corrcoef(array4, array12)\n",
    "\n",
    "print(corr_val[0][1])\n",
    "\n",
    "df.plot.scatter(\"SumbuKecil\",\"Kelas\")"
   ]
  },
  {
   "cell_type": "markdown",
   "id": "determined-closing",
   "metadata": {},
   "source": [
    "Nilai korelasi negatif, maka kolom SumbuKecil berbanding terbalik dengan kolom Kelas"
   ]
  },
  {
   "cell_type": "markdown",
   "id": "naughty-consolidation",
   "metadata": {},
   "source": [
    "# **Kolom Keunikan terhadap Kolom Kelas**"
   ]
  },
  {
   "cell_type": "code",
   "execution_count": 70,
   "id": "pretty-middle",
   "metadata": {},
   "outputs": [
    {
     "name": "stdout",
     "output_type": "stream",
     "text": [
      "-0.7304563686511922\n"
     ]
    },
    {
     "data": {
      "text/plain": [
       "<AxesSubplot:xlabel='Keunikan', ylabel='Kelas'>"
      ]
     },
     "execution_count": 70,
     "metadata": {},
     "output_type": "execute_result"
    },
    {
     "data": {
      "image/png": "[encoded data removed]",
      "text/plain": [
       "<Figure size 432x288 with 1 Axes>"
      ]
     },
     "metadata": {
      "needs_background": "light"
     },
     "output_type": "display_data"
    }
   ],
   "source": [
    "array5 = df[\"Keunikan\"].to_numpy()\n",
    "\n",
    "corr_val = np.corrcoef(array5, array12)\n",
    "\n",
    "print(corr_val[0][1])\n",
    "\n",
    "df.plot.scatter(\"Keunikan\",\"Kelas\")"
   ]
  },
  {
   "cell_type": "markdown",
   "id": "minor-entry",
   "metadata": {},
   "source": [
    "Nilai korelasi negatif, maka kolom Keunikan berbanding terbalik dengan kolom Kelas"
   ]
  },
  {
   "cell_type": "markdown",
   "id": "democratic-combine",
   "metadata": {},
   "source": [
    "# **Kolom AreaBulatan terhadap Kolom Kelas**"
   ]
  },
  {
   "cell_type": "code",
   "execution_count": 71,
   "id": "handmade-danger",
   "metadata": {},
   "outputs": [
    {
     "name": "stdout",
     "output_type": "stream",
     "text": [
      "-0.6073125434153751\n"
     ]
    },
    {
     "data": {
      "text/plain": [
       "<AxesSubplot:xlabel='AreaBulatan', ylabel='Kelas'>"
      ]
     },
     "execution_count": 71,
     "metadata": {},
     "output_type": "execute_result"
    },
    {
     "data": {
      "image/png": "[encoded data removed]",
      "text/plain": [
       "<Figure size 432x288 with 1 Axes>"
      ]
     },
     "metadata": {
      "needs_background": "light"
     },
     "output_type": "display_data"
    }
   ],
   "source": [
    "array6 = df[\"AreaBulatan\"].to_numpy()\n",
    "\n",
    "corr_val = np.corrcoef(array6, array12)\n",
    "\n",
    "print(corr_val[0][1])\n",
    "\n",
    "df.plot.scatter(\"AreaBulatan\",\"Kelas\")"
   ]
  },
  {
   "cell_type": "markdown",
   "id": "general-gravity",
   "metadata": {},
   "source": [
    "Nilai korelasi negatif, maka kolom AreaBulatan berbanding terbalik dengan kolom Kelas"
   ]
  },
  {
   "cell_type": "markdown",
   "id": "cardiac-shore",
   "metadata": {},
   "source": [
    "# **Kolom Diameter terhadap Kolom Kelas**"
   ]
  },
  {
   "cell_type": "code",
   "execution_count": 72,
   "id": "strong-romance",
   "metadata": {},
   "outputs": [
    {
     "name": "stdout",
     "output_type": "stream",
     "text": [
      "-0.6025356896618813\n"
     ]
    },
    {
     "data": {
      "text/plain": [
       "<AxesSubplot:xlabel='Diameter', ylabel='Kelas'>"
      ]
     },
     "execution_count": 72,
     "metadata": {},
     "output_type": "execute_result"
    },
    {
     "data": {
      "image/png": "[encoded data removed]",
      "text/plain": [
       "<Figure size 432x288 with 1 Axes>"
      ]
     },
     "metadata": {
      "needs_background": "light"
     },
     "output_type": "display_data"
    }
   ],
   "source": [
    "array7 = df[\"Diameter\"].to_numpy()\n",
    "\n",
    "corr_val = np.corrcoef(array7, array12)\n",
    "\n",
    "print(corr_val[0][1])\n",
    "\n",
    "df.plot.scatter(\"Diameter\",\"Kelas\")"
   ]
  },
  {
   "cell_type": "markdown",
   "id": "fitted-revision",
   "metadata": {},
   "source": [
    "Nilai korelasi negatif, maka kolom Diameter berbanding terbalik dengan kolom Kelas"
   ]
  },
  {
   "cell_type": "markdown",
   "id": "oriental-couple",
   "metadata": {},
   "source": [
    "# **Kolom KadarAir terhadap Kolom Kelas**"
   ]
  },
  {
   "cell_type": "code",
   "execution_count": 73,
   "id": "loving-prison",
   "metadata": {},
   "outputs": [
    {
     "name": "stdout",
     "output_type": "stream",
     "text": [
      "0.13434422605727642\n"
     ]
    },
    {
     "data": {
      "text/plain": [
       "<AxesSubplot:xlabel='KadarAir', ylabel='Kelas'>"
      ]
     },
     "execution_count": 73,
     "metadata": {},
     "output_type": "execute_result"
    },
    {
     "data": {
      "image/png": "[encoded data removed]",
      "text/plain": [
       "<Figure size 432x288 with 1 Axes>"
      ]
     },
     "metadata": {
      "needs_background": "light"
     },
     "output_type": "display_data"
    }
   ],
   "source": [
    "array8 = df[\"KadarAir\"].to_numpy()\n",
    "\n",
    "corr_val = np.corrcoef(array8, array12)\n",
    "\n",
    "print(corr_val[0][1])\n",
    "\n",
    "df.plot.scatter(\"KadarAir\",\"Kelas\")"
   ]
  },
  {
   "cell_type": "markdown",
   "id": "applicable-translation",
   "metadata": {},
   "source": [
    "Nilai korelasi positif, maka kolom KadarAir berbanding lurus dengan kolom Kelas"
   ]
  },
  {
   "cell_type": "markdown",
   "id": "controlled-windows",
   "metadata": {},
   "source": [
    "# **Kolom Keliling terhadap Kolom Kelas**"
   ]
  },
  {
   "cell_type": "code",
   "execution_count": 74,
   "id": "velvet-redhead",
   "metadata": {},
   "outputs": [
    {
     "name": "stdout",
     "output_type": "stream",
     "text": [
      "-0.6348607454756858\n"
     ]
    },
    {
     "data": {
      "text/plain": [
       "<AxesSubplot:xlabel='Keliling', ylabel='Kelas'>"
      ]
     },
     "execution_count": 74,
     "metadata": {},
     "output_type": "execute_result"
    },
    {
     "data": {
      "image/png": "[encoded data removed]",
      "text/plain": [
       "<Figure size 432x288 with 1 Axes>"
      ]
     },
     "metadata": {
      "needs_background": "light"
     },
     "output_type": "display_data"
    }
   ],
   "source": [
    "array9 = df[\"Keliling\"].to_numpy()\n",
    "\n",
    "corr_val = np.corrcoef(array9, array12)\n",
    "\n",
    "print(corr_val[0][1])\n",
    "\n",
    "df.plot.scatter(\"Keliling\",\"Kelas\")"
   ]
  },
  {
   "cell_type": "markdown",
   "id": "military-newsletter",
   "metadata": {},
   "source": [
    "Nilai korelasi negatif, maka kolom Keliling berbanding terbalik dengan kolom Kelas"
   ]
  },
  {
   "cell_type": "markdown",
   "id": "swiss-google",
   "metadata": {},
   "source": [
    "# **Kolom Bulatan terhadap Kolom Kelas**"
   ]
  },
  {
   "cell_type": "code",
   "execution_count": 75,
   "id": "threaded-numbers",
   "metadata": {},
   "outputs": [
    {
     "name": "stdout",
     "output_type": "stream",
     "text": [
      "0.5450045317240076\n"
     ]
    },
    {
     "data": {
      "text/plain": [
       "<AxesSubplot:xlabel='Bulatan', ylabel='Kelas'>"
      ]
     },
     "execution_count": 75,
     "metadata": {},
     "output_type": "execute_result"
    },
    {
     "data": {
      "image/png": "[encoded data removed]",
      "text/plain": [
       "<Figure size 432x288 with 1 Axes>"
      ]
     },
     "metadata": {
      "needs_background": "light"
     },
     "output_type": "display_data"
    }
   ],
   "source": [
    "array10 = df[\"Bulatan\"].to_numpy()\n",
    "\n",
    "corr_val = np.corrcoef(array10, array12)\n",
    "\n",
    "print(corr_val[0][1])\n",
    "\n",
    "df.plot.scatter(\"Bulatan\",\"Kelas\")"
   ]
  },
  {
   "cell_type": "markdown",
   "id": "every-choice",
   "metadata": {},
   "source": [
    "Nilai korelasi positif, maka kolom Bulatan berbanding lurus dengan kolom Kelas"
   ]
  },
  {
   "cell_type": "markdown",
   "id": "biological-injury",
   "metadata": {},
   "source": [
    "# **Kolom Ransum terhadap Kolom Kelas**"
   ]
  },
  {
   "cell_type": "code",
   "execution_count": 76,
   "id": "vietnamese-liver",
   "metadata": {},
   "outputs": [
    {
     "name": "stdout",
     "output_type": "stream",
     "text": [
      "-0.8399038681287493\n"
     ]
    },
    {
     "data": {
      "text/plain": [
       "<AxesSubplot:xlabel='Ransum', ylabel='Kelas'>"
      ]
     },
     "execution_count": 76,
     "metadata": {},
     "output_type": "execute_result"
    },
    {
     "data": {
      "image/png": "[encoded data removed]",
      "text/plain": [
       "<Figure size 432x288 with 1 Axes>"
      ]
     },
     "metadata": {
      "needs_background": "light"
     },
     "output_type": "display_data"
    }
   ],
   "source": [
    "array11 = df[\"Ransum\"].to_numpy()\n",
    "\n",
    "corr_val = np.corrcoef(array11, array12)\n",
    "\n",
    "print(corr_val[0][1])\n",
    "\n",
    "df.plot.scatter(\"Ransum\",\"Kelas\")"
   ]
  },
  {
   "cell_type": "markdown",
   "id": "fallen-outline",
   "metadata": {},
   "source": [
    "Nilai korelasi negatif, maka kolom Ransum berbanding terbalik dengan kolom Kelas"
   ]
  },
  {
   "cell_type": "code",
   "execution_count": null,
   "id": "engaging-fifty",
   "metadata": {},
   "outputs": [],
   "source": []
  }
 ],
 "metadata": {
  "kernelspec": {
   "display_name": "Python 3",
   "language": "python",
   "name": "python3"
  },
  "language_info": {
   "codemirror_mode": {
    "name": "ipython",
    "version": 3
   },
   "file_extension": ".py",
   "mimetype": "text/x-python",
   "name": "python",
   "nbconvert_exporter": "python",
   "pygments_lexer": "ipython3",
   "version": "3.9.1"
  }
 },
 "nbformat": 4,
 "nbformat_minor": 5
}
