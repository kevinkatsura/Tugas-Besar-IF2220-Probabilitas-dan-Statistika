{
 "cells": [
  {
   "cell_type": "code",
   "execution_count": 30,
   "metadata": {},
   "outputs": [],
   "source": [
    "import pandas as pd\n",
    "import seaborn as sns\n",
    "import matplotlib.pyplot as plt\n",
    "from scipy import stats\n",
    "\n",
    "df = pd.read_csv('Gandum.csv', header = None)\n",
    "\n",
    "df.columns = [\"Id\", \"Daerah\", \"SumbuUtama\", \"SumbuKecil\", \"Keunikan\", \"AreaBulatan\", \"Diameter\", \"KadarAir\", \"Keliling\", \"Bulatan\", \"Ransum\", \"Kelas\"]\n",
    "\n",
    "df = df.drop([\"Id\",\"Kelas\"], axis=1)\n"
   ]
  },
  {
   "cell_type": "markdown",
   "metadata": {},
   "source": [
    "# **Nomor 4\n",
    "    Melakukan test hipotesis 1 sampel, dengan menuliskan 6 langkah testing dan menampilkan\n",
    "    juga boxplotnya untuk kolom/bagian yang bersesuaian.\n",
    "\n",
    "    a. Nilai rata-rata Daerah di atas 4700?\n",
    "    b. Nilai Rata-rata Sumbu Utama tidak sama dengan 116?\n",
    "    c. Nilai Rata-rata 20 baris pertama kolom Sumbu Kecil bukan 50?\n",
    "    d. Proporsi nilai Diameter yang lebih dari 85, adalah tidak sama dengan 15% ?\n",
    "    e. Proporsi nilai Keliling yang kurang dari 100, adalah kurang dari 5% ?\n",
    "\n",
    "**Enam Langkah Testing:**\n",
    "1. Tentukan Hipotesis nol (H0: θ = θ0), dimana θ bisa berupa μ, σ, p, atau data lain berdistribusi tertentu (normal, binomial, dsc.).\n",
    "2. Pilih hipotesis alternatif H1 salah dari dari θ > θ0, θ < θ0, atau θ ≠ θ0.\n",
    "3. Tentukan tingkat signifikan α.\n",
    "4. Tentukan uji statistik yang sesuai dan tentukan daerah kritis.\n",
    "5. Hitung nilai uji statistik dari data sample. Hitung p-value sesuai dengan uji statistik yang digunakan.\n",
    "6. Ambil keputusan dengan TOLAK H0 jika nilai uji terletak di daerah kritis atau dengan tessignifikan, TOLAK H0 jika p-value lebih kecil dibanding tingkat signifikansi α yang diinginkan."
   ]
  },
  {
   "cell_type": "markdown",
   "metadata": {},
   "source": [
    "## **a. Nilai rata-rata Daerah di atas 4700?**\n",
    "Kolom *Daerah* pada data\n",
    "> n = 500\n",
    "\n",
    "> s = 986.395491\n",
    "\n",
    "> x̅ = 4801.246000"
   ]
  },
  {
   "cell_type": "code",
   "execution_count": 31,
   "metadata": {},
   "outputs": [
    {
     "data": {
      "image/png": "[encoded data removed]",
      "text/plain": "<Figure size 432x288 with 1 Axes>"
     },
     "metadata": {
      "needs_background": "light"
     },
     "output_type": "display_data"
    }
   ],
   "source": [
    "# Boxplot Kolom Daerah\n",
    "sns.boxplot(x=df[\"Daerah\"],palette=\"Set3\")\n",
    "plt.show()"
   ]
  },
  {
   "cell_type": "markdown",
   "metadata": {},
   "source": [
    "**Hipotesis nol**          \n",
    "\n",
    "> H0: 𝝻 = 4700 \n",
    "\n",
    "**Hipotesis Alternatif** \n",
    "\n",
    "> H1: 𝝻 > 4700\n",
    "\n",
    "**Tingkat signifikan**\n",
    "\n",
    "> 𝛼 = 0.05\n",
    "\n",
    "**Daerah Kritis** \n",
    "\n",
    "> t > 1.645, diperoleh dari P(t < 1.645) = 0.95 \n",
    "\n",
    "**Uji Statistik yang sesuai**\n",
    "\n",
    "> T Distribution\n",
    "\n",
    "> t = (x̅ - 𝝻)/(s/√n)\n",
    "\n",
    "**Nilai Uji Statistik**\n",
    "\n",
    "> t = (4801.246000 - 4700) / (986.395491/√500)\n",
    "\n",
    "> t = 101.246/44.11295\n",
    "\n",
    "> t = 2.29515\n",
    "\n",
    "**P-Value**\n",
    "\n",
    "> P (t > 2.29515) = 0.0125\n",
    "\n",
    "**Keputusan**\n",
    "\n",
    "> **Tolak H0** karena nilai uji = 2.29515 > 1.645 dan (P = 0.0125) < (𝛼 = 0.05)\n",
    "\n",
    "> Jadi nilai rata-rata daerah ***lebih dari 4700***"
   ]
  },
  {
   "cell_type": "markdown",
   "metadata": {},
   "source": [
    "## **b. Nilai Rata-rata Sumbu Utama tidak sama dengan 116?**\n",
    "Kolom *SumbuUtama* pada data\n",
    "> n = 500\n",
    "\n",
    "> s = 18.282626\n",
    "\n",
    "> x̅ = 116.045171"
   ]
  },
  {
   "cell_type": "code",
   "execution_count": 32,
   "metadata": {},
   "outputs": [
    {
     "data": {
      "image/png": "[encoded data removed]",
      "text/plain": "<Figure size 432x288 with 1 Axes>"
     },
     "metadata": {
      "needs_background": "light"
     },
     "output_type": "display_data"
    }
   ],
   "source": [
    "# Boxplot Kolom SumbuUtama\n",
    "sns.boxplot(x = df[\"SumbuUtama\"],palette=\"Set3\")\n",
    "plt.show()"
   ]
  },
  {
   "cell_type": "markdown",
   "metadata": {},
   "source": [
    "**Hipotesis nol**          \n",
    "\n",
    "> H0: 𝝻 = 116\n",
    "\n",
    "**Hipotesis Alternatif** \n",
    "\n",
    "> H1: 𝝻 ≠ 116 ( two sided ) sehingga menggunakan *two-tailed test*\n",
    "\n",
    "**Tingkat signifikan**\n",
    "\n",
    "> 𝛼 = 0.05\n",
    "\n",
    "> 𝛼/2 = 0.025\n",
    "\n",
    "**Daerah Kritis** \n",
    "\n",
    "> t < -1.96 dan t > 1.96, diperoleh dari P(t < -1.96) = 0.025 dan P(t > 1.96) = 0.025\n",
    "\n",
    "**Uji Statistik yang sesuai**\n",
    "\n",
    "> t = (x̅ - 𝝻)/(s/√n)\n",
    "\n",
    "**Nilai Uji Statistik**\n",
    "\n",
    "> t = (116.045171 - 116) / (18.282626/√500)\n",
    "\n",
    "> t = 0.045171/0.817623\n",
    "\n",
    "> t = 0.055246\n",
    "\n",
    "**Keputusan**\n",
    "\n",
    "> **H0 tidak dapat ditolak** karena nilai uji = 0.055246 < 1.96 dan 0.055246 > -1.96 ( berada di daerah penerimaan)\n",
    "\n",
    "> Jadi nilai rata-rata SumbuUtama **sama dengan 116**."
   ]
  },
  {
   "cell_type": "markdown",
   "metadata": {},
   "source": [
    "## **c. Nilai Rata-rata 20 baris pertama kolom Sumbu Kecil bukan 50?**\n",
    "**Decriptive statistics** dari kolom **SumbuKecil**\n",
    "> N = 500\n",
    "\n",
    "> 𝝻 = 53.715246\n",
    "\n",
    "> 𝜎 = 4.071075\n",
    "\n",
    "**Decriptive statistics** dari 20 baris pertama kolom **SumbuKecil**\n",
    "> n = 20\n",
    "\n",
    "> x̅ = 54.887276\n",
    "\n",
    "> s = 3.373879"
   ]
  },
  {
   "cell_type": "code",
   "execution_count": 33,
   "metadata": {},
   "outputs": [
    {
     "data": {
      "image/png": "[encoded data removed]",
      "text/plain": "<Figure size 432x288 with 1 Axes>"
     },
     "metadata": {
      "needs_background": "light"
     },
     "output_type": "display_data"
    }
   ],
   "source": [
    "# Boxplot Kolom SumbuKecil\n",
    "sns.boxplot(x=df[\"SumbuKecil\"],palette=\"Set3\")\n",
    "plt.show()"
   ]
  },
  {
   "cell_type": "code",
   "execution_count": 57,
   "metadata": {},
   "outputs": [
    {
     "data": {
      "image/png": "[encoded data removed]",
      "text/plain": "<Figure size 432x288 with 1 Axes>"
     },
     "metadata": {
      "needs_background": "light"
     },
     "output_type": "display_data"
    }
   ],
   "source": [
    "# Boxplot dari 20 baris pertama kolom SumbuKecil\n",
    "data = df[\"SumbuKecil\"][:20]\n",
    "sns.boxplot(x=data,palette=\"Set3\")\n",
    "plt.show()"
   ]
  },
  {
   "cell_type": "markdown",
   "metadata": {},
   "source": [
    "**Hipotesis nol**          \n",
    "\n",
    "> H0: 𝝻 = 50\n",
    "\n",
    "**Hipotesis Alternatif** \n",
    "\n",
    "> H1: 𝝻 ≠ 50 ( two sided ) sehingga menggunakan *two-tailed test*\n",
    "\n",
    "**Tingkat signifikan**\n",
    "\n",
    "> 𝛼 = 0.05\n",
    "\n",
    "> 𝛼/2 = 0.025\n",
    "\n",
    "**Daerah Kritis** \n",
    "\n",
    "> z < -1.96 dan z > 1.96, diperoleh dari P( Z < -1.96) = 0.025 dan P( Z > 1.96) = 0.025\n",
    "\n",
    "**Uji Statistik yang sesuai**\n",
    "\n",
    "> Teorema Central Limit\n",
    "\n",
    "> z = (x̅ - 𝝻)/(𝜎/√n)\n",
    "\n",
    "**Nilai Uji Statistik**\n",
    "\n",
    "> z = (54.887276 - 50) / (4.071075/√20)\n",
    "\n",
    "> z = 4.887276/0.910320\n",
    "\n",
    "> z = 5.3687\n",
    "\n",
    "**Keputusan**\n",
    "\n",
    "> **Tolak H0** karena nilai uji = 5.3687 > 1.96 ( Berada di daerah kritis )\n",
    "\n",
    "> Jadi nilai rata-rata 20 baris pertama pada kolom SumbuKecil **bukan 50**."
   ]
  },
  {
   "cell_type": "markdown",
   "metadata": {},
   "source": [
    "## **d. Proporsi nilai Diameter yang lebih dari 85, adalah tidak sama dengan 15% ?**\n",
    "**Decriptive statistics** dari kolom Diameter\n",
    "> N = 500\n",
    "\n",
    "> 𝝻  = 77.771158\n",
    "\n",
    "> 𝜎 = 8.056867\n",
    "\n",
    "**Decriptive statistics** dari diameter yang lebih dari 85\n",
    "> n = 97\n",
    "\n",
    "> x̅ = 89.17190935680412\n",
    "\n",
    "> s = 10.239913750555097"
   ]
  },
  {
   "cell_type": "code",
   "execution_count": 37,
   "metadata": {},
   "outputs": [
    {
     "data": {
      "image/png": "[encoded data removed]",
      "text/plain": "<Figure size 432x288 with 1 Axes>"
     },
     "metadata": {
      "needs_background": "light"
     },
     "output_type": "display_data"
    }
   ],
   "source": [
    "# Boxplot Kolom Diameter\n",
    "sns.boxplot(x=df[\"Diameter\"],palette=\"Set3\")\n",
    "plt.show()"
   ]
  },
  {
   "cell_type": "code",
   "execution_count": 64,
   "metadata": {},
   "outputs": [
    {
     "data": {
      "image/png": "[encoded data removed]",
      "text/plain": "<Figure size 432x288 with 1 Axes>"
     },
     "metadata": {
      "needs_background": "light"
     },
     "output_type": "display_data"
    }
   ],
   "source": [
    "# Boxplot dari diameter yang lebih dari 85\n",
    "dData = []\n",
    "for i in range(len(df[\"Diameter\"])):\n",
    "    if(df[\"Diameter\"][i] > 85):\n",
    "        dData.append(df[\"Diameter\"][i])\n",
    "sns.boxplot(x=dData,palette=\"Set3\")\n",
    "plt.show()"
   ]
  },
  {
   "cell_type": "markdown",
   "metadata": {},
   "source": [
    "**Hipotesis nol**          \n",
    "\n",
    "> H0: p = 0.15\n",
    "\n",
    "**Hipotesis Alternatif** \n",
    "\n",
    "> H1: 𝝻 ≠ 0.15 ( two sided ) sehingga menggunakan *two-tailed test*\n",
    "\n",
    "**Tingkat signifikan**\n",
    "\n",
    "> 𝛼 = 0.05\n",
    "\n",
    "> 𝛼/2 = 0.025\n",
    "\n",
    "**Daerah Kritis** \n",
    "\n",
    "> z < -1.96 dan z > 1.96, diperoleh dari P( Z < -1.96) = 0.025 dan P( Z > 1.96) = 0.025\n",
    "\n",
    "**Uji Statistik yang sesuai**\n",
    "\n",
    "> Binomial didekati normal (karena n nya besar yaitu 97)\n",
    "\n",
    "> z = (x-np0)/(√(np0q0)) = (p̂ - p0)/(p0q0/(√n))\n",
    "\n",
    "**Nilai Uji Statistik**\n",
    "\n",
    "> dengan p̂ = n/N = 97/500 = 0.194, p0 = 0.15, q0 = 0.85, dan n = 97\n",
    "\n",
    "> z = (0.194 - 0.15)/(0.1275/√97)\n",
    "\n",
    "> z = 0.044/0.0129\n",
    "\n",
    "> z = 3.41\n",
    "\n",
    "**P-Value**\n",
    "> z = 3.41 -> P(Z > 3.41) = 1 - P(Z < 3.41) = **0.0003**\n",
    "\n",
    "**Keputusan**\n",
    "\n",
    "> **Tolak H0** karena P-Value = 0.0003 < 0.025 ( Berada di daerah kritis )\n",
    "\n",
    "> Jadi, proporsi nilai diameter yang lebih dari 85 **tidak sama dengan 15%**"
   ]
  },
  {
   "cell_type": "markdown",
   "metadata": {},
   "source": [
    "## **e. Proporsi nilai Keliling yang kurang dari 100, adalah kurang dari 5% ?**\n",
    "**Decriptive statistics** dari kolom Kililing\n",
    "> N = 500\n",
    "\n",
    "> 𝝻  = 281.479722\n",
    "\n",
    "> 𝜎 = 37.335402\n",
    "\n",
    "**Decriptive statistics** dari Keliling yang kurang dari 100\n",
    "> n = 0\n",
    "\n",
    "> x̅ = 0\n",
    "\n",
    "> s = 0"
   ]
  },
  {
   "cell_type": "code",
   "execution_count": 46,
   "metadata": {},
   "outputs": [
    {
     "data": {
      "image/png": "[encoded data removed]",
      "text/plain": "<Figure size 432x288 with 1 Axes>"
     },
     "metadata": {
      "needs_background": "light"
     },
     "output_type": "display_data"
    }
   ],
   "source": [
    "# Boxplot Kolom Keliling\n",
    "sns.boxplot(x=df[\"Keliling\"],palette=\"Set3\")\n",
    "plt.show()"
   ]
  },
  {
   "cell_type": "code",
   "execution_count": 69,
   "metadata": {},
   "outputs": [
    {
     "data": {
      "image/png": "[encoded data removed]",
      "text/plain": "<Figure size 432x288 with 1 Axes>"
     },
     "metadata": {
      "needs_background": "light"
     },
     "output_type": "display_data"
    }
   ],
   "source": [
    "# Boxplot dari Keliling yang kurang dari 100\n",
    "# Akan ditampilkan figure kosong karena tidak ada data yang memiliki keliling < 100\n",
    "\n",
    "dData = []\n",
    "for i in range(len(df[\"Keliling\"])):\n",
    "    if(df[\"Keliling\"][i] < 100):\n",
    "        dData.append(df[\"Keliling\"][i])\n",
    "sns.boxplot(x=dData,palette=\"Set3\")\n",
    "plt.show()"
   ]
  },
  {
   "cell_type": "markdown",
   "metadata": {},
   "source": [
    "**Hipotesis nol**          \n",
    "\n",
    "> H0: p = 0.05\n",
    "\n",
    "**Hipotesis Alternatif** \n",
    "\n",
    "> H1: 𝝻 < 0.05 ( one sided ) sehingga menggunakan *one-tailed test*\n",
    "\n",
    "**Tingkat signifikan**\n",
    "\n",
    "> 𝛼 = 0.05\n",
    "\n",
    "**Daerah Kritis** \n",
    "\n",
    "> z < -1.645 diperoleh dari P (Z < -1.645) = 0.05\n",
    "\n",
    "**Uji Statistik yang sesuai**\n",
    "\n",
    "> Binomial\n",
    "\n",
    "> P-Value = 2P(X ≤ x, jika p = p0)\n",
    "\n",
    "**Nilai Uji Statistik dengan mencari P-Value**\n",
    "> P = 2P(X <= 0, p = 0.05)\n",
    "\n",
    "> P = 2b(0;500;0.05) = q^(500) = 0.95^(500)\n",
    "\n",
    "> P ≈ 0 \n",
    "\n",
    "**Keputusan**\n",
    "\n",
    "> **Tolak H0** karena P-Value = 0 < (𝛼 = 0.05) ( Berada di daerah kritis )\n",
    "\n",
    "> Jadi, proporsi nilai keliling yang kurang dari 100 adalah benar **kurang dari 5%**"
   ]
  }
 ],
 "metadata": {
  "kernelspec": {
   "display_name": "Python 3.9.2 64-bit",
   "name": "python392jvsc74a57bd0aee8b7b246df8f9039afb4144a1f6fd8d2ca17a180786b69acc140d282b71a49"
  },
  "language_info": {
   "codemirror_mode": {
    "name": "ipython",
    "version": 3
   },
   "file_extension": ".py",
   "mimetype": "text/x-python",
   "name": "python",
   "nbconvert_exporter": "python",
   "pygments_lexer": "ipython3",
   "version": "3.9.2"
  },
  "metadata": {
   "interpreter": {
    "hash": "aee8b7b246df8f9039afb4144a1f6fd8d2ca17a180786b69acc140d282b71a49"
   }
  },
  "orig_nbformat": 2
 },
 "nbformat": 4,
 "nbformat_minor": 2
}